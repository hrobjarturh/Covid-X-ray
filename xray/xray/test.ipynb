{
 "cells": [
  {
   "cell_type": "code",
   "execution_count": 1,
   "metadata": {},
   "outputs": [],
   "source": [
    "from nilearn import image"
   ]
  },
  {
   "cell_type": "code",
   "execution_count": 20,
   "metadata": {},
   "outputs": [],
   "source": [
    "s1 = '@1670573000;\\r'.replace('\\r', '\\n')\n",
    "s2 ='@1670573586 modelUse (51f92d4e-1241-440d-ac48-696acbe1a653,\"startDate\")\\r'.replace('\\r', '\\n')"
   ]
  },
  {
   "cell_type": "code",
   "execution_count": 21,
   "metadata": {},
   "outputs": [],
   "source": [
    "alls = \"\"\n",
    "alls += s1\n",
    "alls += s2"
   ]
  },
  {
   "cell_type": "code",
   "execution_count": 22,
   "metadata": {},
   "outputs": [
    {
     "name": "stdout",
     "output_type": "stream",
     "text": [
      "@1670573000;\n",
      "@1670573586 modelUse (51f92d4e-1241-440d-ac48-696acbe1a653,\"startDate\")\n",
      "\n"
     ]
    }
   ],
   "source": [
    "print(alls)"
   ]
  },
  {
   "cell_type": "code",
   "execution_count": 1,
   "metadata": {},
   "outputs": [],
   "source": [
    "import subprocess"
   ]
  },
  {
   "cell_type": "code",
   "execution_count": 4,
   "metadata": {},
   "outputs": [
    {
     "data": {
      "text/plain": [
       "''"
      ]
     },
     "execution_count": 4,
     "metadata": {},
     "output_type": "execute_result"
    }
   ],
   "source": [
    "subprocess.check_output(['./monpoly/monpoly', '-sig','monpoly/art12_app_new/test.sig','-formula','monpoly/art12_app_new/test.mfotl','-log','test.log','-negate']).decode(\"utf-8\")"
   ]
  },
  {
   "cell_type": "code",
   "execution_count": 1,
   "metadata": {},
   "outputs": [
    {
     "name": "stderr",
     "output_type": "stream",
     "text": [
      "2022-12-06 13:23:26,640:pgrace.concar.__private:INFO> loaded concar config\n",
      "2022-12-06 13:23:26,700:pgrace.concar.__private:INFO> set log level to INFO\n",
      "2022-12-06 13:23:26,703:pgrace.concar.__private:INFO> session ID: 4fd9ace5-4dbc-437d-a211-732e2e9974af\n",
      "2022-12-06 13:23:26,704:pgrace.concar.__private:INFO> concar initialized\n"
     ]
    }
   ],
   "source": [
    "from pgrace import concar\n",
    "from datetime import datetime, timedelta\n",
    "import logging\n",
    "from dateutil.parser import parse\n",
    "from datetime import datetime\n",
    "import time\n",
    "import ast"
   ]
  },
  {
   "cell_type": "code",
   "execution_count": 4,
   "metadata": {},
   "outputs": [
    {
     "data": {
      "text/plain": [
       "datetime.datetime(2022, 12, 6, 13, 32, 57, 833559)"
      ]
     },
     "execution_count": 4,
     "metadata": {},
     "output_type": "execute_result"
    }
   ],
   "source": [
    "datetime.now() "
   ]
  },
  {
   "cell_type": "code",
   "execution_count": 5,
   "metadata": {},
   "outputs": [
    {
     "data": {
      "text/plain": [
       "datetime.datetime(2022, 12, 6, 13, 33, 0, 606087)"
      ]
     },
     "execution_count": 5,
     "metadata": {},
     "output_type": "execute_result"
    }
   ],
   "source": [
    "datetime.now() "
   ]
  },
  {
   "cell_type": "code",
   "execution_count": 6,
   "metadata": {},
   "outputs": [],
   "source": [
    "list_of_events = concar.get_events(\n",
    "    start_date=(datetime.now() - timedelta(days=14)).date(),\n",
    "    end_date=datetime.now(),\n",
    "    name='art12dev18'\n",
    ")"
   ]
  },
  {
   "cell_type": "code",
   "execution_count": 7,
   "metadata": {},
   "outputs": [
    {
     "data": {
      "text/plain": [
       "[{'id': '7a921490-a0fa-444e-b054-7395e30500ad',\n",
       "  'name': 'art12dev18',\n",
       "  'type': 'Code',\n",
       "  'category': 'Generic',\n",
       "  'userId': 'hho',\n",
       "  'createdDate': '2022-12-06T13:54:09.679720704Z',\n",
       "  'data': {'artifacts': {'in': None, 'out': None},\n",
       "   'code.args': None,\n",
       "   'code.function': 'concar.send_generic_event',\n",
       "   'code.gitCommit': '256ba1f33ef624e0a2b613258a6a15ffebdf1c2b',\n",
       "   'code.result': None,\n",
       "   'code.source': '/usr/local/lib/python3.8/dist-packages/pgrace/concar/event.py',\n",
       "   'standardized': {'customStr1': 'gdf', 'customStr2': 'gdf'}},\n",
       "  'projectId': 'monpolydev',\n",
       "  'sessionId': '6fdd1bde-cecc-4226-aa62-87334e00d1c8',\n",
       "  'eventEmitterId': 'workspace-hhod1ab',\n",
       "  'comment': 'verification',\n",
       "  'govStream': 'e57dcadb-93b3-4463-b510-af6099cac322',\n",
       "  'artifact': ''},\n",
       " {'id': 'b9cfb0a2-9609-47db-b9c6-40cfaf9e7ca7',\n",
       "  'name': 'art12dev18',\n",
       "  'type': 'Code',\n",
       "  'category': 'Generic',\n",
       "  'userId': 'hho',\n",
       "  'createdDate': '2022-12-06T13:53:50.526614528Z',\n",
       "  'data': {'artifacts': {'in': None, 'out': None},\n",
       "   'code.args': None,\n",
       "   'code.function': 'concar.send_generic_event',\n",
       "   'code.gitCommit': '256ba1f33ef624e0a2b613258a6a15ffebdf1c2b',\n",
       "   'code.result': None,\n",
       "   'code.source': '/usr/local/lib/python3.8/dist-packages/pgrace/concar/event.py',\n",
       "   'standardized': {'customStr1': 'endDate'}},\n",
       "  'projectId': 'monpolydev',\n",
       "  'sessionId': '6fdd1bde-cecc-4226-aa62-87334e00d1c8',\n",
       "  'eventEmitterId': 'workspace-hhod1ab',\n",
       "  'comment': 'modelUse',\n",
       "  'govStream': 'e57dcadb-93b3-4463-b510-af6099cac322',\n",
       "  'artifact': ''},\n",
       " {'id': 'daf8cda8-cae1-46c0-b5a6-dae66a5aba87',\n",
       "  'name': 'art12dev18',\n",
       "  'type': 'Code',\n",
       "  'category': 'Generic',\n",
       "  'userId': 'hho',\n",
       "  'createdDate': '2022-12-06T13:53:50.497260544Z',\n",
       "  'data': {'artifacts': {'in': None, 'out': None},\n",
       "   'code.args': None,\n",
       "   'code.function': 'concar.send_generic_event',\n",
       "   'code.gitCommit': '256ba1f33ef624e0a2b613258a6a15ffebdf1c2b',\n",
       "   'code.result': None,\n",
       "   'code.source': '/usr/local/lib/python3.8/dist-packages/pgrace/concar/event.py',\n",
       "   'standardized': {'jsonDoc': '{\"input1\":\"value\",\"input2\":\"value\"}',\n",
       "    'customNum1': 1,\n",
       "    'customStr1': 'db1'}},\n",
       "  'projectId': 'monpolydev',\n",
       "  'sessionId': '6fdd1bde-cecc-4226-aa62-87334e00d1c8',\n",
       "  'eventEmitterId': 'workspace-hhod1ab',\n",
       "  'comment': 'dbUsed',\n",
       "  'govStream': 'e57dcadb-93b3-4463-b510-af6099cac322',\n",
       "  'artifact': ''},\n",
       " {'id': '482756d4-d303-43fc-b0dd-afe5424884a6',\n",
       "  'name': 'art12dev18',\n",
       "  'type': 'Code',\n",
       "  'category': 'Generic',\n",
       "  'userId': 'hho',\n",
       "  'createdDate': '2022-12-06T13:53:50.000754176Z',\n",
       "  'data': {'artifacts': {'in': None, 'out': None},\n",
       "   'code.args': None,\n",
       "   'code.function': 'concar.send_generic_event',\n",
       "   'code.gitCommit': '256ba1f33ef624e0a2b613258a6a15ffebdf1c2b',\n",
       "   'code.result': None,\n",
       "   'code.source': '/usr/local/lib/python3.8/dist-packages/pgrace/concar/event.py',\n",
       "   'standardized': {'customStr1': 'startDate'}},\n",
       "  'projectId': 'monpolydev',\n",
       "  'sessionId': '6fdd1bde-cecc-4226-aa62-87334e00d1c8',\n",
       "  'eventEmitterId': 'workspace-hhod1ab',\n",
       "  'comment': 'modelUse',\n",
       "  'govStream': 'e57dcadb-93b3-4463-b510-af6099cac322',\n",
       "  'artifact': ''}]"
      ]
     },
     "execution_count": 7,
     "metadata": {},
     "output_type": "execute_result"
    }
   ],
   "source": [
    "list_of_events"
   ]
  },
  {
   "cell_type": "code",
   "execution_count": 17,
   "metadata": {},
   "outputs": [],
   "source": [
    "for e_index in reversed(range(len(list_of_events))):\n",
    "    e = list_of_events[e_index]\n",
    "    e_type = e['comment']\n",
    "    e_datetime = int(time.mktime(parse(e['createdDate']).timetuple()))"
   ]
  },
  {
   "cell_type": "code",
   "execution_count": 21,
   "metadata": {},
   "outputs": [
    {
     "data": {
      "text/plain": [
       "1670322856"
      ]
     },
     "execution_count": 21,
     "metadata": {},
     "output_type": "execute_result"
    }
   ],
   "source": [
    "e_datetime"
   ]
  },
  {
   "cell_type": "code",
   "execution_count": 2,
   "metadata": {},
   "outputs": [],
   "source": [
    "img = image.load_img(\"assets/radiopaedia_org_covid-19-pneumonia-7_85703_0-dcm.nii\")"
   ]
  },
  {
   "cell_type": "code",
   "execution_count": 3,
   "metadata": {},
   "outputs": [
    {
     "data": {
      "text/plain": [
       "'predict.n_clicks'"
      ]
     },
     "execution_count": 3,
     "metadata": {},
     "output_type": "execute_result"
    }
   ],
   "source": [
    "{'prop_id': 'predict.n_clicks', 'value': 1}['prop_id']"
   ]
  },
  {
   "cell_type": "code",
   "execution_count": 1,
   "metadata": {},
   "outputs": [],
   "source": [
    "import pandas as pd"
   ]
  },
  {
   "cell_type": "code",
   "execution_count": 2,
   "metadata": {},
   "outputs": [],
   "source": [
    "import subprocess"
   ]
  },
  {
   "cell_type": "code",
   "execution_count": null,
   "metadata": {},
   "outputs": [],
   "source": [
    "subprocess.check_output(['./monpoly/monpoly', '-sig','monpoly/art12_app_new/test.sig','-formula','monpoly/art12_app_new/test.mfotl','-log','test.log','-negate']).decode(\"utf-8\"),"
   ]
  },
  {
   "cell_type": "code",
   "execution_count": 7,
   "metadata": {},
   "outputs": [
    {
     "ename": "AttributeError",
     "evalue": "'list' object has no attribute 'decode'",
     "output_type": "error",
     "traceback": [
      "\u001b[0;31m---------------------------------------------------------------------------\u001b[0m",
      "\u001b[0;31mAttributeError\u001b[0m                            Traceback (most recent call last)",
      "\u001b[1;32m/home/hho/data/events/git/monpoly/xray/xray/test.ipynb Cell 7\u001b[0m in \u001b[0;36m<module>\u001b[0;34m\u001b[0m\n\u001b[0;32m----> <a href='vscode-notebook-cell://ssh-remote%2B7b22686f73744e616d65223a2277732e64732e323032312e7365727669636573222c2275736572223a226d6f6e706f6c79646576227d/home/hho/data/events/git/monpoly/xray/xray/test.ipynb#X66sdnNjb2RlLXJlbW90ZQ%3D%3D?line=0'>1</a>\u001b[0m ([\u001b[39m'\u001b[39;49m\u001b[39m./monpoly/monpoly\u001b[39;49m\u001b[39m'\u001b[39;49m, \u001b[39m'\u001b[39;49m\u001b[39m-sig\u001b[39;49m\u001b[39m'\u001b[39;49m,\u001b[39m'\u001b[39;49m\u001b[39mmonpoly/art12_app_new/test.sig\u001b[39;49m\u001b[39m'\u001b[39;49m,\u001b[39m'\u001b[39;49m\u001b[39m-formula\u001b[39;49m\u001b[39m'\u001b[39;49m,\u001b[39m'\u001b[39;49m\u001b[39mmonpoly/art12_app_new/test.mfotl\u001b[39;49m\u001b[39m'\u001b[39;49m,\u001b[39m'\u001b[39;49m\u001b[39m-log\u001b[39;49m\u001b[39m'\u001b[39;49m,\u001b[39m'\u001b[39;49m\u001b[39mtest.log\u001b[39;49m\u001b[39m'\u001b[39;49m,\u001b[39m'\u001b[39;49m\u001b[39m-negate\u001b[39;49m\u001b[39m'\u001b[39;49m])\u001b[39m.\u001b[39;49mdecode(\u001b[39m\"\u001b[39m\u001b[39mutf-8\u001b[39m\u001b[39m\"\u001b[39m)\n",
      "\u001b[0;31mAttributeError\u001b[0m: 'list' object has no attribute 'decode'"
     ]
    }
   ],
   "source": [
    "(['./monpoly/monpoly', '-sig','monpoly/art12_app_new/test.sig','-formula','monpoly/art12_app_new/test.mfotl','-log','test.log','-negate']).decode(\"utf-8\")"
   ]
  },
  {
   "cell_type": "code",
   "execution_count": 5,
   "metadata": {},
   "outputs": [],
   "source": [
    "cmd = './monpoly/monpoly -sig monpoly/art12_app_new/test.sig -formula monpoly/art12_app_new/test.mfotl -negate'"
   ]
  },
  {
   "cell_type": "code",
   "execution_count": 6,
   "metadata": {},
   "outputs": [
    {
     "ename": "KeyboardInterrupt",
     "evalue": "",
     "output_type": "error",
     "traceback": [
      "\u001b[0;31m---------------------------------------------------------------------------\u001b[0m",
      "\u001b[0;31mKeyboardInterrupt\u001b[0m                         Traceback (most recent call last)",
      "\u001b[1;32m/home/hho/data/events/git/monpoly/xray/xray/test.ipynb Cell 8\u001b[0m in \u001b[0;36m<module>\u001b[0;34m\u001b[0m\n\u001b[0;32m----> <a href='vscode-notebook-cell://ssh-remote%2B7b22686f73744e616d65223a2277732e64732e323032312e7365727669636573222c2275736572223a226d6f6e706f6c79646576227d/home/hho/data/events/git/monpoly/xray/xray/test.ipynb#X64sdnNjb2RlLXJlbW90ZQ%3D%3D?line=0'>1</a>\u001b[0m sp \u001b[39m=\u001b[39m subprocess\u001b[39m.\u001b[39;49mrun(cmd, shell\u001b[39m=\u001b[39;49m\u001b[39mTrue\u001b[39;49;00m)\n",
      "File \u001b[0;32m/usr/lib/python3.8/subprocess.py:495\u001b[0m, in \u001b[0;36mrun\u001b[0;34m(input, capture_output, timeout, check, *popenargs, **kwargs)\u001b[0m\n\u001b[1;32m    493\u001b[0m \u001b[39mwith\u001b[39;00m Popen(\u001b[39m*\u001b[39mpopenargs, \u001b[39m*\u001b[39m\u001b[39m*\u001b[39mkwargs) \u001b[39mas\u001b[39;00m process:\n\u001b[1;32m    494\u001b[0m     \u001b[39mtry\u001b[39;00m:\n\u001b[0;32m--> 495\u001b[0m         stdout, stderr \u001b[39m=\u001b[39m process\u001b[39m.\u001b[39;49mcommunicate(\u001b[39minput\u001b[39;49m, timeout\u001b[39m=\u001b[39;49mtimeout)\n\u001b[1;32m    496\u001b[0m     \u001b[39mexcept\u001b[39;00m TimeoutExpired \u001b[39mas\u001b[39;00m exc:\n\u001b[1;32m    497\u001b[0m         process\u001b[39m.\u001b[39mkill()\n",
      "File \u001b[0;32m/usr/lib/python3.8/subprocess.py:1020\u001b[0m, in \u001b[0;36mPopen.communicate\u001b[0;34m(self, input, timeout)\u001b[0m\n\u001b[1;32m   1018\u001b[0m         stderr \u001b[39m=\u001b[39m \u001b[39mself\u001b[39m\u001b[39m.\u001b[39mstderr\u001b[39m.\u001b[39mread()\n\u001b[1;32m   1019\u001b[0m         \u001b[39mself\u001b[39m\u001b[39m.\u001b[39mstderr\u001b[39m.\u001b[39mclose()\n\u001b[0;32m-> 1020\u001b[0m     \u001b[39mself\u001b[39;49m\u001b[39m.\u001b[39;49mwait()\n\u001b[1;32m   1021\u001b[0m \u001b[39melse\u001b[39;00m:\n\u001b[1;32m   1022\u001b[0m     \u001b[39mif\u001b[39;00m timeout \u001b[39mis\u001b[39;00m \u001b[39mnot\u001b[39;00m \u001b[39mNone\u001b[39;00m:\n",
      "File \u001b[0;32m/usr/lib/python3.8/subprocess.py:1083\u001b[0m, in \u001b[0;36mPopen.wait\u001b[0;34m(self, timeout)\u001b[0m\n\u001b[1;32m   1081\u001b[0m     endtime \u001b[39m=\u001b[39m _time() \u001b[39m+\u001b[39m timeout\n\u001b[1;32m   1082\u001b[0m \u001b[39mtry\u001b[39;00m:\n\u001b[0;32m-> 1083\u001b[0m     \u001b[39mreturn\u001b[39;00m \u001b[39mself\u001b[39;49m\u001b[39m.\u001b[39;49m_wait(timeout\u001b[39m=\u001b[39;49mtimeout)\n\u001b[1;32m   1084\u001b[0m \u001b[39mexcept\u001b[39;00m \u001b[39mKeyboardInterrupt\u001b[39;00m:\n\u001b[1;32m   1085\u001b[0m     \u001b[39m# https://bugs.python.org/issue25942\u001b[39;00m\n\u001b[1;32m   1086\u001b[0m     \u001b[39m# The first keyboard interrupt waits briefly for the child to\u001b[39;00m\n\u001b[1;32m   1087\u001b[0m     \u001b[39m# exit under the common assumption that it also received the ^C\u001b[39;00m\n\u001b[1;32m   1088\u001b[0m     \u001b[39m# generated SIGINT and will exit rapidly.\u001b[39;00m\n\u001b[1;32m   1089\u001b[0m     \u001b[39mif\u001b[39;00m timeout \u001b[39mis\u001b[39;00m \u001b[39mnot\u001b[39;00m \u001b[39mNone\u001b[39;00m:\n",
      "File \u001b[0;32m/usr/lib/python3.8/subprocess.py:1806\u001b[0m, in \u001b[0;36mPopen._wait\u001b[0;34m(self, timeout)\u001b[0m\n\u001b[1;32m   1804\u001b[0m \u001b[39mif\u001b[39;00m \u001b[39mself\u001b[39m\u001b[39m.\u001b[39mreturncode \u001b[39mis\u001b[39;00m \u001b[39mnot\u001b[39;00m \u001b[39mNone\u001b[39;00m:\n\u001b[1;32m   1805\u001b[0m     \u001b[39mbreak\u001b[39;00m  \u001b[39m# Another thread waited.\u001b[39;00m\n\u001b[0;32m-> 1806\u001b[0m (pid, sts) \u001b[39m=\u001b[39m \u001b[39mself\u001b[39;49m\u001b[39m.\u001b[39;49m_try_wait(\u001b[39m0\u001b[39;49m)\n\u001b[1;32m   1807\u001b[0m \u001b[39m# Check the pid and loop as waitpid has been known to\u001b[39;00m\n\u001b[1;32m   1808\u001b[0m \u001b[39m# return 0 even without WNOHANG in odd situations.\u001b[39;00m\n\u001b[1;32m   1809\u001b[0m \u001b[39m# http://bugs.python.org/issue14396.\u001b[39;00m\n\u001b[1;32m   1810\u001b[0m \u001b[39mif\u001b[39;00m pid \u001b[39m==\u001b[39m \u001b[39mself\u001b[39m\u001b[39m.\u001b[39mpid:\n",
      "File \u001b[0;32m/usr/lib/python3.8/subprocess.py:1764\u001b[0m, in \u001b[0;36mPopen._try_wait\u001b[0;34m(self, wait_flags)\u001b[0m\n\u001b[1;32m   1762\u001b[0m \u001b[39m\"\"\"All callers to this function MUST hold self._waitpid_lock.\"\"\"\u001b[39;00m\n\u001b[1;32m   1763\u001b[0m \u001b[39mtry\u001b[39;00m:\n\u001b[0;32m-> 1764\u001b[0m     (pid, sts) \u001b[39m=\u001b[39m os\u001b[39m.\u001b[39;49mwaitpid(\u001b[39mself\u001b[39;49m\u001b[39m.\u001b[39;49mpid, wait_flags)\n\u001b[1;32m   1765\u001b[0m \u001b[39mexcept\u001b[39;00m \u001b[39mChildProcessError\u001b[39;00m:\n\u001b[1;32m   1766\u001b[0m     \u001b[39m# This happens if SIGCLD is set to be ignored or waiting\u001b[39;00m\n\u001b[1;32m   1767\u001b[0m     \u001b[39m# for child processes has otherwise been disabled for our\u001b[39;00m\n\u001b[1;32m   1768\u001b[0m     \u001b[39m# process.  This child is dead, we can't get the status.\u001b[39;00m\n\u001b[1;32m   1769\u001b[0m     pid \u001b[39m=\u001b[39m \u001b[39mself\u001b[39m\u001b[39m.\u001b[39mpid\n",
      "\u001b[0;31mKeyboardInterrupt\u001b[0m: "
     ]
    }
   ],
   "source": [
    "sp = subprocess.run(cmd, shell=True)"
   ]
  },
  {
   "cell_type": "code",
   "execution_count": null,
   "metadata": {},
   "outputs": [],
   "source": [
    "sp.stdout('@1669916458 verification (d0f0c693-d623-42a9-a57e-f0874dad1d84,\"ryt\",\"asdfds\")')"
   ]
  },
  {
   "cell_type": "code",
   "execution_count": 2,
   "metadata": {},
   "outputs": [],
   "source": [
    "df2 = pd.read_csv(\"sessionData.csv\")"
   ]
  },
  {
   "cell_type": "code",
   "execution_count": 3,
   "metadata": {},
   "outputs": [
    {
     "data": {
      "text/html": [
       "<div>\n",
       "<style scoped>\n",
       "    .dataframe tbody tr th:only-of-type {\n",
       "        vertical-align: middle;\n",
       "    }\n",
       "\n",
       "    .dataframe tbody tr th {\n",
       "        vertical-align: top;\n",
       "    }\n",
       "\n",
       "    .dataframe thead th {\n",
       "        text-align: right;\n",
       "    }\n",
       "</style>\n",
       "<table border=\"1\" class=\"dataframe\">\n",
       "  <thead>\n",
       "    <tr style=\"text-align: right;\">\n",
       "      <th></th>\n",
       "      <th>managerID</th>\n",
       "      <th>user</th>\n",
       "      <th>referenceDB</th>\n",
       "      <th>inputData</th>\n",
       "      <th>results</th>\n",
       "    </tr>\n",
       "  </thead>\n",
       "  <tbody>\n",
       "    <tr>\n",
       "      <th>0</th>\n",
       "      <td>a52d1d80-77d4-47ce-b9fb-34cd81005328</td>\n",
       "      <td>hho</td>\n",
       "      <td>db_1</td>\n",
       "      <td>img1</td>\n",
       "      <td>Stefan Hormst</td>\n",
       "    </tr>\n",
       "    <tr>\n",
       "      <th>1</th>\n",
       "      <td>92f3b4d0-2a5d-4c60-bb60-e9e56f4ac3a4</td>\n",
       "      <td>user1</td>\n",
       "      <td>refdb</td>\n",
       "      <td>img1</td>\n",
       "      <td>asdasd</td>\n",
       "    </tr>\n",
       "    <tr>\n",
       "      <th>2</th>\n",
       "      <td>b17143de-4656-428c-8af1-07da48c2ae23</td>\n",
       "      <td>hho1</td>\n",
       "      <td>refdb</td>\n",
       "      <td>img1</td>\n",
       "      <td>asdasd</td>\n",
       "    </tr>\n",
       "    <tr>\n",
       "      <th>3</th>\n",
       "      <td>f75152aa-17e8-4daa-8348-9d5210ce25d2</td>\n",
       "      <td>user1</td>\n",
       "      <td>refdb</td>\n",
       "      <td>img1</td>\n",
       "      <td>asdasd</td>\n",
       "    </tr>\n",
       "    <tr>\n",
       "      <th>4</th>\n",
       "      <td>b4af5d8f-0f6a-491d-afa8-13f1629d05aa</td>\n",
       "      <td>sdf</td>\n",
       "      <td>refdb</td>\n",
       "      <td>img1</td>\n",
       "      <td>asdasd</td>\n",
       "    </tr>\n",
       "  </tbody>\n",
       "</table>\n",
       "</div>"
      ],
      "text/plain": [
       "                              managerID   user referenceDB inputData  \\\n",
       "0  a52d1d80-77d4-47ce-b9fb-34cd81005328    hho        db_1      img1   \n",
       "1  92f3b4d0-2a5d-4c60-bb60-e9e56f4ac3a4  user1       refdb      img1   \n",
       "2  b17143de-4656-428c-8af1-07da48c2ae23   hho1       refdb      img1   \n",
       "3  f75152aa-17e8-4daa-8348-9d5210ce25d2  user1       refdb      img1   \n",
       "4  b4af5d8f-0f6a-491d-afa8-13f1629d05aa    sdf       refdb      img1   \n",
       "\n",
       "         results  \n",
       "0  Stefan Hormst  \n",
       "1         asdasd  \n",
       "2         asdasd  \n",
       "3         asdasd  \n",
       "4         asdasd  "
      ]
     },
     "execution_count": 3,
     "metadata": {},
     "output_type": "execute_result"
    }
   ],
   "source": [
    "df2"
   ]
  },
  {
   "cell_type": "code",
   "execution_count": 5,
   "metadata": {},
   "outputs": [],
   "source": [
    "d = {'managerID': ['a52d1d80-77d4-47ce-b9fb-34cd81005328'], 'user': 'hho','referenceDB': 'db_1', 'inputData': 'img1', 'predData':'img2','results': 'Stefan Hormst'}\n",
    "df = pd.DataFrame(data=d)"
   ]
  },
  {
   "cell_type": "code",
   "execution_count": 6,
   "metadata": {},
   "outputs": [
    {
     "data": {
      "text/html": [
       "<div>\n",
       "<style scoped>\n",
       "    .dataframe tbody tr th:only-of-type {\n",
       "        vertical-align: middle;\n",
       "    }\n",
       "\n",
       "    .dataframe tbody tr th {\n",
       "        vertical-align: top;\n",
       "    }\n",
       "\n",
       "    .dataframe thead th {\n",
       "        text-align: right;\n",
       "    }\n",
       "</style>\n",
       "<table border=\"1\" class=\"dataframe\">\n",
       "  <thead>\n",
       "    <tr style=\"text-align: right;\">\n",
       "      <th></th>\n",
       "      <th>managerID</th>\n",
       "      <th>user</th>\n",
       "      <th>referenceDB</th>\n",
       "      <th>inputData</th>\n",
       "      <th>predData</th>\n",
       "      <th>results</th>\n",
       "    </tr>\n",
       "  </thead>\n",
       "  <tbody>\n",
       "    <tr>\n",
       "      <th>0</th>\n",
       "      <td>a52d1d80-77d4-47ce-b9fb-34cd81005328</td>\n",
       "      <td>hho</td>\n",
       "      <td>db_1</td>\n",
       "      <td>img1</td>\n",
       "      <td>img2</td>\n",
       "      <td>Stefan Hormst</td>\n",
       "    </tr>\n",
       "  </tbody>\n",
       "</table>\n",
       "</div>"
      ],
      "text/plain": [
       "                              managerID user referenceDB inputData predData  \\\n",
       "0  a52d1d80-77d4-47ce-b9fb-34cd81005328  hho        db_1      img1     img2   \n",
       "\n",
       "         results  \n",
       "0  Stefan Hormst  "
      ]
     },
     "execution_count": 6,
     "metadata": {},
     "output_type": "execute_result"
    }
   ],
   "source": [
    "df"
   ]
  },
  {
   "cell_type": "code",
   "execution_count": 7,
   "metadata": {},
   "outputs": [],
   "source": [
    "df.to_csv('sessionData.csv', index=False)"
   ]
  },
  {
   "cell_type": "code",
   "execution_count": 8,
   "metadata": {},
   "outputs": [],
   "source": [
    "df2 = pd.read_csv(\"sessionData.csv\")"
   ]
  },
  {
   "cell_type": "code",
   "execution_count": 37,
   "metadata": {},
   "outputs": [],
   "source": [
    "df2.loc[len(df2)] = {'managerID': 2, 'user': 3,'referenceDB': 1, 'inputData': 3, 'results': 3 }"
   ]
  },
  {
   "cell_type": "code",
   "execution_count": 12,
   "metadata": {},
   "outputs": [
    {
     "data": {
      "text/plain": [
       "'radiopaedia_org_covid-19-pneumonia-4_85506_1-dcm.nii'"
      ]
     },
     "execution_count": 12,
     "metadata": {},
     "output_type": "execute_result"
    }
   ],
   "source": [
    "df2.loc[df2['managerID']=='bb03fdeb-482e-4379-90de-1a33aa81d7cf']['inputData'].values[0]"
   ]
  },
  {
   "cell_type": "code",
   "execution_count": 14,
   "metadata": {},
   "outputs": [
    {
     "data": {
      "text/plain": [
       "'radiopaedia_org_covid-19-pneumonia-4_85506_1-dcm.nii'"
      ]
     },
     "execution_count": 14,
     "metadata": {},
     "output_type": "execute_result"
    }
   ],
   "source": [
    "df2.loc[df2['managerID']=='bb03fdeb-482e-4379-90de-1a33aa81d7cf']['predData'].values[0]"
   ]
  },
  {
   "cell_type": "code",
   "execution_count": null,
   "metadata": {},
   "outputs": [],
   "source": [
    "            dbc.Row([dbc.Col(axial_card), dbc.Col(saggital_card)]),\n",
    "            dbc.Row(\n",
    "                [\n",
    "                    dbc.Col(histogram_card),\n",
    "                    dbc.Col(mesh_card),\n",
    "                ]\n",
    "            ),"
   ]
  },
  {
   "cell_type": "code",
   "execution_count": 1,
   "metadata": {},
   "outputs": [
    {
     "name": "stderr",
     "output_type": "stream",
     "text": [
      "2022-11-24 17:44:42,902:pgrace.concar.__private:INFO> loaded concar config\n",
      "2022-11-24 17:44:42,903:pgrace.concar.__private:INFO> set log level to INFO\n",
      "2022-11-24 17:44:42,904:pgrace.concar.__private:INFO> session ID: a2f05e73-21ce-40a0-862c-03730a5e76e1\n",
      "2022-11-24 17:44:42,905:pgrace.concar.__private:INFO> concar initialized\n"
     ]
    }
   ],
   "source": [
    "from pgrace import concar\n",
    "from datetime import datetime\n",
    "from pgrace.concar.event import Event\n",
    "import uuid"
   ]
  },
  {
   "cell_type": "code",
   "execution_count": 11,
   "metadata": {},
   "outputs": [
    {
     "data": {
      "text/plain": [
       "'b3f4a6a1-b0f6-4c68-990d-2e828635b01d'"
      ]
     },
     "execution_count": 11,
     "metadata": {},
     "output_type": "execute_result"
    }
   ],
   "source": [
    "str(uuid.uuid4())"
   ]
  },
  {
   "cell_type": "code",
   "execution_count": 20,
   "metadata": {},
   "outputs": [],
   "source": [
    "concar_event = Event('modelName1')\n"
   ]
  },
  {
   "cell_type": "code",
   "execution_count": 17,
   "metadata": {},
   "outputs": [
    {
     "name": "stderr",
     "output_type": "stream",
     "text": [
      "2022-11-20 13:08:43,463:pgrace.concar.__private:INFO> sending message (660 bytes): {\"id\": \"f842396f-8d46-46e8-8731-6a71c60d1c0e\", \"@timestamp\": 1668949723413.2256, \"auth\": {\"username\": \"hho\"}, \"project\": {\"name\": \"forecasting\", \"id\": \"\"}, \"source\": \"Workspace\", \"emitter\": \"workspace-hhod1ab\", \"type\": \"Code\", \"comment\": \"modelUse\", \"code\": {\"source\": \"/usr/local/lib/python3.8/dist-packages/pgrace/concar/event.py\", \"sessionId\": \"1625f30b-957d-4654-9b36-6e9757ba6ae1\", \"function\": \"concar.send_generic_event\", \"gitCommit\": \"556d47e4821ad1f06c3a54c090e2d96e6de15a5e\"}, \"artifacts\": {}, \"name\": \"modelName\", \"category\": \"Generic\", \"govStream\": \"623657e2-0a8b-4145-bdd1-a8995229e5b5\", \"artifact\": \"\", \"standardized\": {\"customStr1\": \"startDate\"}}\n"
     ]
    },
    {
     "data": {
      "text/plain": [
       "'f842396f-8d46-46e8-8731-6a71c60d1c0e'"
      ]
     },
     "execution_count": 17,
     "metadata": {},
     "output_type": "execute_result"
    }
   ],
   "source": [
    "# send modelUse\n",
    "concar_event.SetGovStream(str(uuid.uuid4()))\n",
    "concar_event.SetComment(str('modelUse'))\n",
    "concar_event.SetCustomStr1('startDate')\n",
    "concar_event.SendAndClear()"
   ]
  },
  {
   "cell_type": "code",
   "execution_count": null,
   "metadata": {},
   "outputs": [],
   "source": [
    "# send dbUsed\n",
    "concar_event.SetGovStream(str(uuid.uuid4()))\n",
    "concar_event.SetComment(str('dbUsed'))\n",
    "concar_event.SetCustomStr1('nameOfDB')\n",
    "concar_event.SetJSONDoc({'input1': 'value','input2': 'value'})\n",
    "concar_event.SetCustomNum1(1.)\n",
    "concar_event.SendAndClear()"
   ]
  },
  {
   "cell_type": "code",
   "execution_count": 31,
   "metadata": {},
   "outputs": [
    {
     "name": "stderr",
     "output_type": "stream",
     "text": [
      "2022-11-20 13:17:58,616:pgrace.concar.__private:INFO> sending message (682 bytes): {\"id\": \"6e676c15-3d71-4429-a833-485f9d7ef53b\", \"@timestamp\": 1668950278603.9866, \"auth\": {\"username\": \"hho\"}, \"project\": {\"name\": \"forecasting\", \"id\": \"\"}, \"source\": \"Workspace\", \"emitter\": \"workspace-hhod1ab\", \"type\": \"Code\", \"comment\": \"verification\", \"code\": {\"source\": \"/usr/local/lib/python3.8/dist-packages/pgrace/concar/event.py\", \"sessionId\": \"1625f30b-957d-4654-9b36-6e9757ba6ae1\", \"function\": \"concar.send_generic_event\", \"gitCommit\": \"556d47e4821ad1f06c3a54c090e2d96e6de15a5e\"}, \"artifacts\": {}, \"name\": \"modelName1\", \"category\": \"Generic\", \"govStream\": \"98f15a33-ce1a-494a-b33d-4f33ae5fba6f\", \"artifact\": \"\", \"standardized\": {\"customStr1\": \"ver1\", \"customStr2\": \"ver2\"}}\n"
     ]
    },
    {
     "data": {
      "text/plain": [
       "'6e676c15-3d71-4429-a833-485f9d7ef53b'"
      ]
     },
     "execution_count": 31,
     "metadata": {},
     "output_type": "execute_result"
    }
   ],
   "source": [
    "# send verification\n",
    "concar_event.SetGovStream(str(uuid.uuid4()))\n",
    "concar_event.SetComment(str('verification'))\n",
    "concar_event.SetCustomStr1('ver1')\n",
    "concar_event.SetCustomStr2('ver2')\n",
    "concar_event.SendAndClear()"
   ]
  },
  {
   "cell_type": "code",
   "execution_count": 1,
   "metadata": {},
   "outputs": [],
   "source": [
    "import pandas as pd"
   ]
  },
  {
   "cell_type": "code",
   "execution_count": 55,
   "metadata": {},
   "outputs": [],
   "source": [
    "df2 = pd.read_csv(\"sessionData.csv\")"
   ]
  },
  {
   "cell_type": "code",
   "execution_count": 56,
   "metadata": {},
   "outputs": [
    {
     "data": {
      "text/html": [
       "<div>\n",
       "<style scoped>\n",
       "    .dataframe tbody tr th:only-of-type {\n",
       "        vertical-align: middle;\n",
       "    }\n",
       "\n",
       "    .dataframe tbody tr th {\n",
       "        vertical-align: top;\n",
       "    }\n",
       "\n",
       "    .dataframe thead th {\n",
       "        text-align: right;\n",
       "    }\n",
       "</style>\n",
       "<table border=\"1\" class=\"dataframe\">\n",
       "  <thead>\n",
       "    <tr style=\"text-align: right;\">\n",
       "      <th></th>\n",
       "      <th>managerID</th>\n",
       "      <th>user</th>\n",
       "      <th>referenceDB</th>\n",
       "      <th>inputData</th>\n",
       "      <th>predData</th>\n",
       "      <th>results</th>\n",
       "    </tr>\n",
       "  </thead>\n",
       "  <tbody>\n",
       "    <tr>\n",
       "      <th>0</th>\n",
       "      <td>a52d1d80-77d4-47ce-b9fb-34cd81005328</td>\n",
       "      <td>hho</td>\n",
       "      <td>db_1</td>\n",
       "      <td>img1</td>\n",
       "      <td>img2</td>\n",
       "      <td>Stefan Hormst</td>\n",
       "    </tr>\n",
       "    <tr>\n",
       "      <th>1</th>\n",
       "      <td>bb03fdeb-482e-4379-90de-1a33aa81d7cf</td>\n",
       "      <td>asd</td>\n",
       "      <td>refdb</td>\n",
       "      <td>radiopaedia_org_covid-19-pneumonia-4_85506_1-d...</td>\n",
       "      <td>radiopaedia_org_covid-19-pneumonia-4_85506_1-d...</td>\n",
       "      <td>asdasd</td>\n",
       "    </tr>\n",
       "    <tr>\n",
       "      <th>2</th>\n",
       "      <td>b57a8efe-92e3-4880-9b74-dfee9375b500</td>\n",
       "      <td>fds</td>\n",
       "      <td>refdb</td>\n",
       "      <td>radiopaedia_org_covid-19-pneumonia-4_85506_1-d...</td>\n",
       "      <td>radiopaedia_org_covid-19-pneumonia-7_85703_0-d...</td>\n",
       "      <td>asdasd</td>\n",
       "    </tr>\n",
       "    <tr>\n",
       "      <th>3</th>\n",
       "      <td>9cb401d1-3adb-4a03-99fd-4d937eb2e7c4</td>\n",
       "      <td>fds</td>\n",
       "      <td>refdb</td>\n",
       "      <td>radiopaedia_org_covid-19-pneumonia-4_85506_1-d...</td>\n",
       "      <td>radiopaedia_org_covid-19-pneumonia-4_85506_1-d...</td>\n",
       "      <td>asdasd</td>\n",
       "    </tr>\n",
       "  </tbody>\n",
       "</table>\n",
       "</div>"
      ],
      "text/plain": [
       "                              managerID user referenceDB  \\\n",
       "0  a52d1d80-77d4-47ce-b9fb-34cd81005328  hho        db_1   \n",
       "1  bb03fdeb-482e-4379-90de-1a33aa81d7cf  asd       refdb   \n",
       "2  b57a8efe-92e3-4880-9b74-dfee9375b500  fds       refdb   \n",
       "3  9cb401d1-3adb-4a03-99fd-4d937eb2e7c4  fds       refdb   \n",
       "\n",
       "                                           inputData  \\\n",
       "0                                               img1   \n",
       "1  radiopaedia_org_covid-19-pneumonia-4_85506_1-d...   \n",
       "2  radiopaedia_org_covid-19-pneumonia-4_85506_1-d...   \n",
       "3  radiopaedia_org_covid-19-pneumonia-4_85506_1-d...   \n",
       "\n",
       "                                            predData        results  \n",
       "0                                               img2  Stefan Hormst  \n",
       "1  radiopaedia_org_covid-19-pneumonia-4_85506_1-d...         asdasd  \n",
       "2  radiopaedia_org_covid-19-pneumonia-7_85703_0-d...         asdasd  \n",
       "3  radiopaedia_org_covid-19-pneumonia-4_85506_1-d...         asdasd  "
      ]
     },
     "execution_count": 56,
     "metadata": {},
     "output_type": "execute_result"
    }
   ],
   "source": [
    "df2"
   ]
  },
  {
   "cell_type": "code",
   "execution_count": 60,
   "metadata": {},
   "outputs": [],
   "source": [
    "df2 = df2.loc[df2['managerID']=='a52d1d80-77d4-47ce-b9fb-34cd81005328d']"
   ]
  },
  {
   "cell_type": "code",
   "execution_count": 62,
   "metadata": {},
   "outputs": [],
   "source": [
    "df2.to_csv('sessionData.csv', index=False)"
   ]
  },
  {
   "cell_type": "code",
   "execution_count": 64,
   "metadata": {},
   "outputs": [
    {
     "data": {
      "text/plain": [
       "0"
      ]
     },
     "execution_count": 64,
     "metadata": {},
     "output_type": "execute_result"
    }
   ],
   "source": [
    "len(df2)"
   ]
  },
  {
   "cell_type": "code",
   "execution_count": 2,
   "metadata": {},
   "outputs": [],
   "source": [
    "import logging\n",
    "from dateutil.parser import parse"
   ]
  },
  {
   "cell_type": "code",
   "execution_count": 3,
   "metadata": {},
   "outputs": [],
   "source": [
    "from datetime import datetime\n",
    "import time"
   ]
  },
  {
   "cell_type": "code",
   "execution_count": null,
   "metadata": {},
   "outputs": [],
   "source": [
    "'''modelDeployment(id:int,x:int)\n",
    "modelUse(id:int,x:int)\n",
    "dbUsed(id:int,x:int, y:string)\n",
    "verification(id:int,x:string)'''"
   ]
  },
  {
   "cell_type": "code",
   "execution_count": 4,
   "metadata": {},
   "outputs": [],
   "source": [
    "list_of_events = concar.get_events(\n",
    "    start_date=datetime.today().date(),\n",
    "    end_date=datetime.now(),\n",
    "    name='art12dev5'\n",
    ")"
   ]
  },
  {
   "cell_type": "code",
   "execution_count": 5,
   "metadata": {},
   "outputs": [],
   "source": [
    "for handler in logging.root.handlers[:]:\n",
    "    logging.root.removeHandler(handler)\n",
    "logging.basicConfig(filename='test.log', level=logging.INFO, format= '%(message)s')\n",
    "for e_index in reversed(range(len(list_of_events))):\n",
    "    e = list_of_events[e_index]\n",
    "    e_type = e['comment']\n",
    "    e_datetime = int(time.mktime(parse(e['createdDate']).timetuple()))\n",
    "        \n",
    "    if e_type == 'verification':\n",
    "        logging.info(' '.join(['@'+str(e_datetime) ,e_type, '('+str(e['govStream'])  +','+str(e['data']['standardized']['customStr1'])+','+str(e['data']['standardized']['customStr2'])+')' ]))\n",
    "        \n",
    "    if e_type == 'modelUse':\n",
    "        logging.info(' '.join(['@'+str(e_datetime) ,e_type, '('+str(e['govStream'])   +','+str(e['data']['standardized']['customStr1'])+')' ]))\n",
    "        \n",
    "    if e_type == 'dbUsed':\n",
    "        logging.info(' '.join(['@'+str(e_datetime) ,e_type, '('+str(e['govStream'])   +','+str(e['data']['standardized']['customStr1'])+','+str(e['data']['standardized']['customNum1'])+', ('+str(e['data']['standardized']['jsonDoc'])+'))' ]))"
   ]
  },
  {
   "cell_type": "code",
   "execution_count": 13,
   "metadata": {},
   "outputs": [
    {
     "name": "stdout",
     "output_type": "stream",
     "text": [
      "{'id': '637776ec-191a-4e68-9458-c64b7432cefe', 'name': 'art12dev4', 'type': 'Code', 'category': 'Generic', 'userId': 'hho', 'createdDate': '2022-11-24T16:30:08.566258688Z', 'data': {'artifacts': {'in': None, 'out': None}, 'code.args': None, 'code.function': 'concar.send_generic_event', 'code.gitCommit': '556d47e4821ad1f06c3a54c090e2d96e6de15a5e', 'code.result': None, 'code.source': '/data/xray/assets/model-accelerators/dash-covid-xray/venv/lib/python3.8/site-packages/pgrace/concar/event.py', 'standardized': {'customStr1': 'dev2', 'customStr2': 'other'}}, 'projectId': 'forecasting', 'sessionId': 'c73e549c-c9cf-44ab-ad09-332dc577e7a9', 'eventEmitterId': 'workspace-hhod1ab', 'comment': 'verification', 'govStream': 'fc1f73fc-3efa-4640-8b6a-226070aab462', 'artifact': ''}\n",
      "{'id': '4a193ce3-761a-421a-a7ce-de2f12b332a7', 'name': 'art12dev4', 'type': 'Code', 'category': 'Generic', 'userId': 'hho', 'createdDate': '2022-11-24T16:29:10.41052672Z', 'data': {'artifacts': {'in': None, 'out': None}, 'code.args': None, 'code.function': 'concar.send_generic_event', 'code.gitCommit': '556d47e4821ad1f06c3a54c090e2d96e6de15a5e', 'code.result': None, 'code.source': '/data/xray/assets/model-accelerators/dash-covid-xray/venv/lib/python3.8/site-packages/pgrace/concar/event.py', 'standardized': {'customStr1': 'endDate'}}, 'projectId': 'forecasting', 'sessionId': 'c73e549c-c9cf-44ab-ad09-332dc577e7a9', 'eventEmitterId': 'workspace-hhod1ab', 'comment': 'modelUse', 'govStream': 'fc1f73fc-3efa-4640-8b6a-226070aab462', 'artifact': ''}\n",
      "{'id': '968587f9-8f10-4403-b192-d0e4c3832a9f', 'name': 'art12dev4', 'type': 'Code', 'category': 'Generic', 'userId': 'hho', 'createdDate': '2022-11-24T16:29:04.613286912Z', 'data': {'artifacts': {'in': None, 'out': None}, 'code.args': None, 'code.function': 'concar.send_generic_event', 'code.gitCommit': '556d47e4821ad1f06c3a54c090e2d96e6de15a5e', 'code.result': None, 'code.source': '/data/xray/assets/model-accelerators/dash-covid-xray/venv/lib/python3.8/site-packages/pgrace/concar/event.py', 'standardized': {'customStr1': 'startDate'}}, 'projectId': 'forecasting', 'sessionId': 'c73e549c-c9cf-44ab-ad09-332dc577e7a9', 'eventEmitterId': 'workspace-hhod1ab', 'comment': 'modelUse', 'govStream': 'fc1f73fc-3efa-4640-8b6a-226070aab462', 'artifact': ''}\n",
      "{'id': '2f4ac312-5757-4d1d-8804-30942471f5b3', 'name': 'art12dev4', 'type': 'Code', 'category': 'Generic', 'userId': 'hho', 'createdDate': '2022-11-24T16:19:48.867175168Z', 'data': {'artifacts': {'in': None, 'out': None}, 'code.args': None, 'code.function': 'concar.send_generic_event', 'code.gitCommit': '556d47e4821ad1f06c3a54c090e2d96e6de15a5e', 'code.result': None, 'code.source': '/data/xray/assets/model-accelerators/dash-covid-xray/venv/lib/python3.8/site-packages/pgrace/concar/event.py', 'standardized': {'customStr1': 'endDate'}}, 'projectId': 'forecasting', 'sessionId': '9726600d-e09d-4410-a689-b691ecd94012', 'eventEmitterId': 'workspace-hhod1ab', 'comment': 'modelUse', 'govStream': 'ab9c9729-1b07-459c-9368-1207755de9eb', 'artifact': ''}\n",
      "{'id': 'e5ea01f6-18f9-444e-b592-24371b6b1b64', 'name': 'art12dev4', 'type': 'Code', 'category': 'Generic', 'userId': 'hho', 'createdDate': '2022-11-24T16:19:43.819963136Z', 'data': {'artifacts': {'in': None, 'out': None}, 'code.args': None, 'code.function': 'concar.send_generic_event', 'code.gitCommit': '556d47e4821ad1f06c3a54c090e2d96e6de15a5e', 'code.result': None, 'code.source': '/data/xray/assets/model-accelerators/dash-covid-xray/venv/lib/python3.8/site-packages/pgrace/concar/event.py', 'standardized': {'customStr1': 'startDate'}}, 'projectId': 'forecasting', 'sessionId': '9726600d-e09d-4410-a689-b691ecd94012', 'eventEmitterId': 'workspace-hhod1ab', 'comment': 'modelUse', 'govStream': 'ab9c9729-1b07-459c-9368-1207755de9eb', 'artifact': ''}\n",
      "{'id': '49719ee6-94aa-4ea2-989c-ec9ee663a422', 'name': 'art12dev4', 'type': 'Code', 'category': 'Generic', 'userId': 'hho', 'createdDate': '2022-11-24T16:00:52.25698176Z', 'data': {'artifacts': {'in': None, 'out': None}, 'code.args': None, 'code.function': 'concar.send_generic_event', 'code.gitCommit': '556d47e4821ad1f06c3a54c090e2d96e6de15a5e', 'code.result': None, 'code.source': '/data/xray/assets/model-accelerators/dash-covid-xray/venv/lib/python3.8/site-packages/pgrace/concar/event.py', 'standardized': {'customStr1': 'dev1', 'customStr2': 'dev1'}}, 'projectId': 'forecasting', 'sessionId': 'd5410546-3561-4d1e-92d1-362a7965ab52', 'eventEmitterId': 'workspace-hhod1ab', 'comment': 'verification', 'govStream': '9156d2d3-ccdf-4c6a-bb47-aeea183c8c0b', 'artifact': ''}\n",
      "{'id': '2b2278d6-457a-49b0-8db2-303155797d64', 'name': 'art12dev4', 'type': 'Code', 'category': 'Generic', 'userId': 'hho', 'createdDate': '2022-11-24T16:00:40.375026432Z', 'data': {'artifacts': {'in': None, 'out': None}, 'code.args': None, 'code.function': 'concar.send_generic_event', 'code.gitCommit': '556d47e4821ad1f06c3a54c090e2d96e6de15a5e', 'code.result': None, 'code.source': '/data/xray/assets/model-accelerators/dash-covid-xray/venv/lib/python3.8/site-packages/pgrace/concar/event.py', 'standardized': {'customStr1': 'endDate'}}, 'projectId': 'forecasting', 'sessionId': 'd5410546-3561-4d1e-92d1-362a7965ab52', 'eventEmitterId': 'workspace-hhod1ab', 'comment': 'modelUse', 'govStream': '9156d2d3-ccdf-4c6a-bb47-aeea183c8c0b', 'artifact': ''}\n",
      "{'id': '7a093570-ce6b-4b04-94da-c52baf70c885', 'name': 'art12dev4', 'type': 'Code', 'category': 'Generic', 'userId': 'hho', 'createdDate': '2022-11-24T16:00:35.01377024Z', 'data': {'artifacts': {'in': None, 'out': None}, 'code.args': None, 'code.function': 'concar.send_generic_event', 'code.gitCommit': '556d47e4821ad1f06c3a54c090e2d96e6de15a5e', 'code.result': None, 'code.source': '/data/xray/assets/model-accelerators/dash-covid-xray/venv/lib/python3.8/site-packages/pgrace/concar/event.py', 'standardized': {'customStr1': 'startDate'}}, 'projectId': 'forecasting', 'sessionId': 'd5410546-3561-4d1e-92d1-362a7965ab52', 'eventEmitterId': 'workspace-hhod1ab', 'comment': 'modelUse', 'govStream': '9156d2d3-ccdf-4c6a-bb47-aeea183c8c0b', 'artifact': ''}\n",
      "{'id': '0c0c371b-2f22-41ea-8e97-5b767bb09792', 'name': 'art12dev4', 'type': 'Code', 'category': 'Generic', 'userId': 'hho', 'createdDate': '2022-11-24T14:39:18.665025536Z', 'data': {'artifacts': {'in': None, 'out': None}, 'code.args': None, 'code.function': 'concar.send_generic_event', 'code.gitCommit': '556d47e4821ad1f06c3a54c090e2d96e6de15a5e', 'code.result': None, 'code.source': '/data/xray/assets/model-accelerators/dash-covid-xray/venv/lib/python3.8/site-packages/pgrace/concar/event.py', 'standardized': {'customStr1': 'EM.managerID', 'customStr2': 'hho'}}, 'projectId': 'forecasting', 'sessionId': 'c6f8ef40-3810-471b-84b3-cc05e23e0534', 'eventEmitterId': 'workspace-hhod1ab', 'comment': 'verification', 'govStream': 'b1d65247-468c-42e4-b658-1a5bc252ced0', 'artifact': ''}\n",
      "{'id': 'b3bd5706-f813-41e2-b644-e91fe2e61508', 'name': 'art12dev4', 'type': 'Code', 'category': 'Generic', 'userId': 'hho', 'createdDate': '2022-11-24T14:39:05.27658752Z', 'data': {'artifacts': {'in': None, 'out': None}, 'code.args': None, 'code.function': 'concar.send_generic_event', 'code.gitCommit': '556d47e4821ad1f06c3a54c090e2d96e6de15a5e', 'code.result': None, 'code.source': '/data/xray/assets/model-accelerators/dash-covid-xray/venv/lib/python3.8/site-packages/pgrace/concar/event.py', 'standardized': {'customStr1': 'endDate'}}, 'projectId': 'forecasting', 'sessionId': 'c6f8ef40-3810-471b-84b3-cc05e23e0534', 'eventEmitterId': 'workspace-hhod1ab', 'comment': 'modelUse', 'govStream': 'b1d65247-468c-42e4-b658-1a5bc252ced0', 'artifact': ''}\n",
      "{'id': '1d732dc1-9c15-4e94-b6f3-4332eb1237ac', 'name': 'art12dev4', 'type': 'Code', 'category': 'Generic', 'userId': 'hho', 'createdDate': '2022-11-24T14:39:04.765253632Z', 'data': {'artifacts': {'in': None, 'out': None}, 'code.args': None, 'code.function': 'concar.send_generic_event', 'code.gitCommit': '556d47e4821ad1f06c3a54c090e2d96e6de15a5e', 'code.result': None, 'code.source': '/data/xray/assets/model-accelerators/dash-covid-xray/venv/lib/python3.8/site-packages/pgrace/concar/event.py', 'standardized': {'customStr1': 'startDate'}}, 'projectId': 'forecasting', 'sessionId': 'c6f8ef40-3810-471b-84b3-cc05e23e0534', 'eventEmitterId': 'workspace-hhod1ab', 'comment': 'modelUse', 'govStream': 'b1d65247-468c-42e4-b658-1a5bc252ced0', 'artifact': ''}\n",
      "{'id': '9ac9cfa2-2e3a-400a-8006-cc1b84f9ba6e', 'name': 'art12dev4', 'type': 'Code', 'category': 'Generic', 'userId': 'hho', 'createdDate': '2022-11-24T14:02:57.53648512Z', 'data': {'artifacts': {'in': None, 'out': None}, 'code.args': None, 'code.function': 'concar.send_generic_event', 'code.gitCommit': '556d47e4821ad1f06c3a54c090e2d96e6de15a5e', 'code.result': None, 'code.source': '/data/xray/assets/model-accelerators/dash-covid-xray/venv/lib/python3.8/site-packages/pgrace/concar/event.py', 'standardized': {'customStr1': 'hho', 'customStr2': 'hho'}}, 'projectId': 'forecasting', 'sessionId': '1c196e7c-eac1-4f56-ad3a-7f7509095a67', 'eventEmitterId': 'workspace-hhod1ab', 'comment': 'verification', 'govStream': 'a52d1d80-77d4-47ce-b9fb-34cd81005328', 'artifact': ''}\n",
      "{'id': '694e0d99-b397-4526-99e6-71a18cbd010e', 'name': 'art12dev4', 'type': 'Code', 'category': 'Generic', 'userId': 'hho', 'createdDate': '2022-11-24T14:02:37.208523008Z', 'data': {'artifacts': {'in': None, 'out': None}, 'code.args': None, 'code.function': 'concar.send_generic_event', 'code.gitCommit': '556d47e4821ad1f06c3a54c090e2d96e6de15a5e', 'code.result': None, 'code.source': '/data/xray/assets/model-accelerators/dash-covid-xray/venv/lib/python3.8/site-packages/pgrace/concar/event.py', 'standardized': {'customStr1': 'endDate'}}, 'projectId': 'forecasting', 'sessionId': '1c196e7c-eac1-4f56-ad3a-7f7509095a67', 'eventEmitterId': 'workspace-hhod1ab', 'comment': 'modelUse', 'govStream': '88b68e24-7e57-46f6-9a83-1cca73be066b', 'artifact': ''}\n",
      "{'id': 'a8d4779d-59f5-4eeb-a8a4-386987203bcc', 'name': 'art12dev4', 'type': 'Code', 'category': 'Generic', 'userId': 'hho', 'createdDate': '2022-11-24T14:02:35.571914496Z', 'data': {'artifacts': {'in': None, 'out': None}, 'code.args': None, 'code.function': 'concar.send_generic_event', 'code.gitCommit': '556d47e4821ad1f06c3a54c090e2d96e6de15a5e', 'code.result': None, 'code.source': '/data/xray/assets/model-accelerators/dash-covid-xray/venv/lib/python3.8/site-packages/pgrace/concar/event.py', 'standardized': {'customStr1': 'startDate'}}, 'projectId': 'forecasting', 'sessionId': '1c196e7c-eac1-4f56-ad3a-7f7509095a67', 'eventEmitterId': 'workspace-hhod1ab', 'comment': 'modelUse', 'govStream': '88b68e24-7e57-46f6-9a83-1cca73be066b', 'artifact': ''}\n"
     ]
    }
   ],
   "source": [
    "for e_index in range(len(list_of_events)):\n",
    "    e = list_of_events[e_index]\n",
    "    print(e)"
   ]
  },
  {
   "cell_type": "code",
   "execution_count": 14,
   "metadata": {},
   "outputs": [
    {
     "data": {
      "text/plain": [
       "'a52d1d80-77d4-47ce-b9fb-34cd81005328'"
      ]
     },
     "execution_count": 14,
     "metadata": {},
     "output_type": "execute_result"
    }
   ],
   "source": [
    "list_of_events[0]['govStream']"
   ]
  },
  {
   "cell_type": "code",
   "execution_count": 16,
   "metadata": {},
   "outputs": [
    {
     "data": {
      "text/plain": [
       "'verification'"
      ]
     },
     "execution_count": 16,
     "metadata": {},
     "output_type": "execute_result"
    }
   ],
   "source": [
    "list_of_events[0]['comment']"
   ]
  },
  {
   "cell_type": "code",
   "execution_count": 23,
   "metadata": {},
   "outputs": [
    {
     "data": {
      "text/plain": [
       "{'artifacts': {'in': None, 'out': None},\n",
       " 'code.args': None,\n",
       " 'code.function': 'concar.send_generic_event',\n",
       " 'code.gitCommit': '556d47e4821ad1f06c3a54c090e2d96e6de15a5e',\n",
       " 'code.result': None,\n",
       " 'code.source': '/data/xray/assets/model-accelerators/dash-covid-xray/venv/lib/python3.8/site-packages/pgrace/concar/event.py',\n",
       " 'standardized': {'customStr1': 'hho', 'customStr2': 'hho'}}"
      ]
     },
     "execution_count": 23,
     "metadata": {},
     "output_type": "execute_result"
    }
   ],
   "source": [
    "list_of_events[0]['data']"
   ]
  },
  {
   "cell_type": "code",
   "execution_count": 21,
   "metadata": {},
   "outputs": [
    {
     "data": {
      "text/plain": [
       "{'id': '694e0d99-b397-4526-99e6-71a18cbd010e',\n",
       " 'name': 'art12dev4',\n",
       " 'type': 'Code',\n",
       " 'category': 'Generic',\n",
       " 'userId': 'hho',\n",
       " 'createdDate': '2022-11-24T14:02:37.208523008Z',\n",
       " 'data': {'artifacts': {'in': None, 'out': None},\n",
       "  'code.args': None,\n",
       "  'code.function': 'concar.send_generic_event',\n",
       "  'code.gitCommit': '556d47e4821ad1f06c3a54c090e2d96e6de15a5e',\n",
       "  'code.result': None,\n",
       "  'code.source': '/data/xray/assets/model-accelerators/dash-covid-xray/venv/lib/python3.8/site-packages/pgrace/concar/event.py',\n",
       "  'standardized': {'customStr1': 'endDate'}},\n",
       " 'projectId': 'forecasting',\n",
       " 'sessionId': '1c196e7c-eac1-4f56-ad3a-7f7509095a67',\n",
       " 'eventEmitterId': 'workspace-hhod1ab',\n",
       " 'comment': 'modelUse',\n",
       " 'govStream': '88b68e24-7e57-46f6-9a83-1cca73be066b',\n",
       " 'artifact': ''}"
      ]
     },
     "execution_count": 21,
     "metadata": {},
     "output_type": "execute_result"
    }
   ],
   "source": [
    "list_of_events[1]"
   ]
  },
  {
   "cell_type": "code",
   "execution_count": 16,
   "metadata": {},
   "outputs": [],
   "source": [
    "import os"
   ]
  },
  {
   "cell_type": "code",
   "execution_count": 33,
   "metadata": {},
   "outputs": [],
   "source": [
    "f  = open('test.log', \"r\")\n",
    "lgs = f.read()"
   ]
  },
  {
   "cell_type": "code",
   "execution_count": 52,
   "metadata": {},
   "outputs": [],
   "source": [
    "!./monpoly/monpoly -sig monpoly/art12_app_new/test.sig -formula monpoly/art12_app_new/test.mfotl -log test.log -negate"
   ]
  },
  {
   "cell_type": "code",
   "execution_count": 42,
   "metadata": {},
   "outputs": [],
   "source": [
    "import subprocess"
   ]
  },
  {
   "cell_type": "code",
   "execution_count": 46,
   "metadata": {},
   "outputs": [
    {
     "data": {
      "text/plain": [
       "'@1669914646 (time point 1): (\"no verification\",\"8737b191-cf1b-41bc-bd43-e6fc8f9c463c\")\\n'"
      ]
     },
     "execution_count": 46,
     "metadata": {},
     "output_type": "execute_result"
    }
   ],
   "source": [
    "subprocess.check_output(['./monpoly/monpoly', '-sig','monpoly/art12_app_new/test.sig','-formula','monpoly/art12_app_new/test.mfotl','-log','test.log','-negate']).decode(\"utf-8\") "
   ]
  },
  {
   "cell_type": "code",
   "execution_count": null,
   "metadata": {},
   "outputs": [],
   "source": []
  }
 ],
 "metadata": {
  "kernelspec": {
   "display_name": "Python 3 (ipykernel)",
   "language": "python",
   "name": "python3"
  },
  "language_info": {
   "codemirror_mode": {
    "name": "ipython",
    "version": 3
   },
   "file_extension": ".py",
   "mimetype": "text/x-python",
   "name": "python",
   "nbconvert_exporter": "python",
   "pygments_lexer": "ipython3",
   "version": "3.8.10"
  },
  "vscode": {
   "interpreter": {
    "hash": "5b3ded1ccb95c1d9bd405e7b823d9e85424cde40fbb5985eb47e999ef50e15b4"
   }
  }
 },
 "nbformat": 4,
 "nbformat_minor": 4
}
