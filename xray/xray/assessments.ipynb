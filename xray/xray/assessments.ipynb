{
 "cells": [
  {
   "cell_type": "code",
   "execution_count": 1,
   "id": "29793615-ebc7-437c-88fa-e332d4d4b453",
   "metadata": {},
   "outputs": [
    {
     "name": "stderr",
     "output_type": "stream",
     "text": [
      "2022-11-01 13:51:02,967:pgrace.concar.__private:INFO> loaded concar config\n",
      "2022-11-01 13:51:02,968:pgrace.concar.__private:INFO> set log level to INFO\n",
      "2022-11-01 13:51:02,969:pgrace.concar.__private:INFO> session ID: 2129be8e-ef0d-4ebd-a691-058ac170a928\n",
      "2022-11-01 13:51:02,970:pgrace.concar.__private:INFO> concar initialized\n"
     ]
    }
   ],
   "source": [
    "from pgrace.rules import create_report, get_ruleset_reports, get_project_rulesets\n",
    "from pgrace import concar\n",
    "from datetime import datetime\n",
    "import pandas as pd\n",
    "import pgrace\n",
    "import dateutil.parser as dparser"
   ]
  },
  {
   "cell_type": "code",
   "execution_count": 4,
   "id": "226023c2-760b-4452-85f7-8cc904851dac",
   "metadata": {},
   "outputs": [],
   "source": [
    "logs = concar.get_events(datetime(2022, 9,1), datetime.today())"
   ]
  },
  {
   "cell_type": "code",
   "execution_count": 15,
   "id": "365b2af3-bbda-4f41-b34f-66a165172418",
   "metadata": {},
   "outputs": [
    {
     "data": {
      "text/plain": [
       "{'id': 'a226bf16-c3a5-49cd-8c09-78fa174df848',\n",
       " 'name': 'startWorkspace',\n",
       " 'type': 'System',\n",
       " 'category': 'Administration',\n",
       " 'userId': 'hho',\n",
       " 'createdDate': '2022-10-27T07:23:43.922832896Z',\n",
       " 'data': {'artifacts': None,\n",
       "  'standardized': None,\n",
       "  'system.event': [{'name': 'id',\n",
       "    'type': 'string',\n",
       "    'stringValue': 'workspace-86548c0d-90a4-47be-9f54-9db91744725f'},\n",
       "   {'name': 'projectName', 'type': 'string', 'stringValue': 'monpolydev'},\n",
       "   {'name': 'username', 'type': 'string', 'stringValue': 'hho'},\n",
       "   {'name': 'cpu', 'type': 'number', 'numValue': 1000},\n",
       "   {'name': 'gpu', 'type': 'bool', 'boolValue': False},\n",
       "   {'name': 'memory', 'type': 'number', 'numValue': 2000},\n",
       "   {'name': 'imageName',\n",
       "    'type': 'string',\n",
       "    'stringValue': 'registry.internal.2021.services/common/jupyter/python3.8:1.1.12'},\n",
       "   {'name': 'libImageName', 'type': 'string', 'stringValue': ''},\n",
       "   {'name': 'deactivationEnabled', 'type': 'bool', 'boolValue': False},\n",
       "   {'name': 'deactivationTimeOfDay', 'type': 'string', 'stringValue': '0s'}],\n",
       "  'system.processId': ''},\n",
       " 'projectId': 'monpolydev',\n",
       " 'sessionId': '',\n",
       " 'eventEmitterId': '',\n",
       " 'comment': '',\n",
       " 'govStream': '',\n",
       " 'artifact': ''}"
      ]
     },
     "execution_count": 15,
     "metadata": {},
     "output_type": "execute_result"
    }
   ],
   "source": [
    "logs[10]"
   ]
  },
  {
   "cell_type": "code",
   "execution_count": 16,
   "id": "30d09975-721c-4e2b-92dc-4f49383dffb5",
   "metadata": {},
   "outputs": [],
   "source": [
    "list_of_events = concar.get_events(\n",
    "    start_date=datetime(2022, 8, 1),\n",
    "    end_date=datetime.now(),\n",
    "    name='biomodelt7',\n",
    ")\n",
    "list_of_events.reverse()"
   ]
  },
  {
   "cell_type": "code",
   "execution_count": 17,
   "id": "54a68446-7d46-4e62-8e34-74c6614289ca",
   "metadata": {},
   "outputs": [
    {
     "data": {
      "text/plain": [
       "[{'id': 'c44a99e5-435d-44b4-b75c-acd7b9fbf40f',\n",
       "  'name': 'biomodelt7',\n",
       "  'type': 'Code',\n",
       "  'category': 'Generic',\n",
       "  'userId': 'hho',\n",
       "  'createdDate': '2022-11-01T13:33:03.090407936Z',\n",
       "  'data': {'artifacts': {'in': None, 'out': None},\n",
       "   'code.args': None,\n",
       "   'code.function': 'concar.send_generic_event',\n",
       "   'code.gitCommit': '',\n",
       "   'code.result': None,\n",
       "   'code.source': '/usr/local/lib/python3.8/dist-packages/pgrace/concar/event.py',\n",
       "   'standardized': {'customNum1': 1, 'customStr1': 'modelDeployment'}},\n",
       "  'projectId': 'monpolydev',\n",
       "  'sessionId': 'ec503c21-1136-4782-beba-58f8d48849c0',\n",
       "  'eventEmitterId': 'workspace-hhod1ab',\n",
       "  'comment': '',\n",
       "  'govStream': '',\n",
       "  'artifact': ''},\n",
       " {'id': '1d868e49-8589-4629-bf6f-06e87c5c3d4d',\n",
       "  'name': 'biomodelt7',\n",
       "  'type': 'Code',\n",
       "  'category': 'Generic',\n",
       "  'userId': 'hho',\n",
       "  'createdDate': '2022-11-01T13:49:40.564434944Z',\n",
       "  'data': {'artifacts': {'in': None, 'out': None},\n",
       "   'code.args': None,\n",
       "   'code.function': 'concar.send_generic_event',\n",
       "   'code.gitCommit': '',\n",
       "   'code.result': None,\n",
       "   'code.source': '/usr/local/lib/python3.8/dist-packages/pgrace/concar/event.py',\n",
       "   'standardized': {'customNum1': 1, 'customStr1': 'modelDeployment'}},\n",
       "  'projectId': 'monpolydev',\n",
       "  'sessionId': 'ec503c21-1136-4782-beba-58f8d48849c0',\n",
       "  'eventEmitterId': 'workspace-hhod1ab',\n",
       "  'comment': '',\n",
       "  'govStream': '',\n",
       "  'artifact': ''},\n",
       " {'id': 'eaac9b3c-24d3-46b0-a6ab-c2a70d39540a',\n",
       "  'name': 'biomodelt7',\n",
       "  'type': 'Code',\n",
       "  'category': 'Generic',\n",
       "  'userId': 'hho',\n",
       "  'createdDate': '2022-11-01T13:50:21.332617472Z',\n",
       "  'data': {'artifacts': {'in': None, 'out': None},\n",
       "   'code.args': None,\n",
       "   'code.function': 'concar.send_generic_event',\n",
       "   'code.gitCommit': '',\n",
       "   'code.result': None,\n",
       "   'code.source': '/usr/local/lib/python3.8/dist-packages/pgrace/concar/event.py',\n",
       "   'standardized': {'customNum1': 1, 'customStr1': 'modelDeployment'}},\n",
       "  'projectId': 'monpolydev',\n",
       "  'sessionId': 'ec503c21-1136-4782-beba-58f8d48849c0',\n",
       "  'eventEmitterId': 'workspace-hhod1ab',\n",
       "  'comment': '',\n",
       "  'govStream': '',\n",
       "  'artifact': ''}]"
      ]
     },
     "execution_count": 17,
     "metadata": {},
     "output_type": "execute_result"
    }
   ],
   "source": [
    "list_of_events"
   ]
  },
  {
   "cell_type": "code",
   "execution_count": 11,
   "id": "70b91cdc-a374-40e3-b790-e5830a47802d",
   "metadata": {},
   "outputs": [
    {
     "data": {
      "text/plain": [
       "['Event',\n",
       " '__builtins__',\n",
       " '__cached__',\n",
       " '__doc__',\n",
       " '__file__',\n",
       " '__loader__',\n",
       " '__name__',\n",
       " '__package__',\n",
       " '__path__',\n",
       " '__private',\n",
       " '__spec__',\n",
       " 'event',\n",
       " 'events',\n",
       " 'get_events',\n",
       " 'send_generic_event',\n",
       " 'send_notification_event',\n",
       " 'send_sql_query_event']"
      ]
     },
     "execution_count": 11,
     "metadata": {},
     "output_type": "execute_result"
    }
   ],
   "source": [
    "ec503c21-1136-4782-beba-58f8d48849c0"
   ]
  },
  {
   "cell_type": "code",
   "execution_count": null,
   "id": "b9c988b7-8c3d-46db-9965-15b32968b3b7",
   "metadata": {},
   "outputs": [],
   "source": []
  }
 ],
 "metadata": {
  "kernelspec": {
   "display_name": "Python 3.8.10 ('venv': venv)",
   "language": "python",
   "name": "python3"
  },
  "language_info": {
   "codemirror_mode": {
    "name": "ipython",
    "version": 3
   },
   "file_extension": ".py",
   "mimetype": "text/x-python",
   "name": "python",
   "nbconvert_exporter": "python",
   "pygments_lexer": "ipython3",
   "version": "3.8.10"
  },
  "vscode": {
   "interpreter": {
    "hash": "69ad18c33ab7f550504684a837e6991aa1d18b296ee9d1d630a0c265ce299356"
   }
  }
 },
 "nbformat": 4,
 "nbformat_minor": 5
}
