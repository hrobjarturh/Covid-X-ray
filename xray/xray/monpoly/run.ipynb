{
 "cells": [
  {
   "cell_type": "code",
   "execution_count": 1,
   "metadata": {},
   "outputs": [
    {
     "name": "stdout",
     "output_type": "stream",
     "text": [
      "Fatal error: exception Sys_error(\"examples/rv11.mfotl: No such file or directory\")\n"
     ]
    }
   ],
   "source": [
    "!./monpoly -sig examples/rv11.sig -formula examples/rv11.mfotl -log examples/rv11.log -negate"
   ]
  },
  {
   "cell_type": "code",
   "execution_count": null,
   "metadata": {},
   "outputs": [],
   "source": []
  },
  {
   "cell_type": "code",
   "execution_count": null,
   "metadata": {},
   "outputs": [],
   "source": []
  },
  {
   "cell_type": "code",
   "execution_count": 50,
   "metadata": {},
   "outputs": [
    {
     "name": "stdout",
     "output_type": "stream",
     "text": [
      "@1307955600 (time point 1): (160)\n",
      "@1308477599 (time point 2): (152) (163)\n",
      "@1308477609 (time point 3): (150)\n"
     ]
    }
   ],
   "source": [
    "!./monpoly -sig examples/sigs/rv11.sig -formula examples/mfotl/rv11.mfotl -log examples/logs/rv11.log -negate"
   ]
  },
  {
   "cell_type": "code",
   "execution_count": 1,
   "metadata": {},
   "outputs": [],
   "source": [
    "!./monpoly -sig art12_app_new/test.sig -formula art12_app_new/test.mfotl -log art12_app_new/test.log -negate"
   ]
  },
  {
   "cell_type": "code",
   "execution_count": null,
   "metadata": {},
   "outputs": [],
   "source": []
  },
  {
   "cell_type": "code",
   "execution_count": null,
   "metadata": {},
   "outputs": [],
   "source": [
    "@1669359604 modelUse (ea4e73f4-0cee-4576-97c3-6b1999be44aa,startDate)\n",
    "@1669359606 dbUsed (ea4e73f4-0cee-4576-97c3-6b1999be44aa,db1,1, ({\"input1\":\"value\",\"input2\":\"value\"}))\n",
    "@1669359606 modelUse (ea4e73f4-0cee-4576-97c3-6b1999be44aa,endDate)\n",
    "@1669363521 modelUse (8f3cc4de-b64e-4da5-af44-ae06979ad643,startDate)\n",
    "@1669363521 dbUsed (8f3cc4de-b64e-4da5-af44-ae06979ad643,db1,1, ({\"input1\":\"value\",\"input2\":\"value\"}))\n",
    "@1669363521 modelUse (8f3cc4de-b64e-4da5-af44-ae06979ad643,endDate)\n",
    "@1669364005 verification (8f3cc4de-b64e-4da5-af44-ae06979ad643,user1,user2)"
   ]
  },
  {
   "cell_type": "code",
   "execution_count": 65,
   "metadata": {},
   "outputs": [],
   "source": [
    "from datetime import datetime"
   ]
  },
  {
   "cell_type": "code",
   "execution_count": 57,
   "metadata": {},
   "outputs": [
    {
     "data": {
      "text/plain": [
       "datetime.date(2022, 11, 29)"
      ]
     },
     "execution_count": 57,
     "metadata": {},
     "output_type": "execute_result"
    }
   ],
   "source": [
    "datetime.today().date()"
   ]
  },
  {
   "cell_type": "code",
   "execution_count": 58,
   "metadata": {},
   "outputs": [
    {
     "ename": "TypeError",
     "evalue": "descriptor 'date' for 'datetime.datetime' objects doesn't apply to a 'int' object",
     "output_type": "error",
     "traceback": [
      "\u001b[0;31m---------------------------------------------------------------------------\u001b[0m",
      "\u001b[0;31mTypeError\u001b[0m                                 Traceback (most recent call last)",
      "\u001b[1;32m/home/hho/data/events/git/monpoly/xray/xray/monpoly/run.ipynb Cell 10\u001b[0m in \u001b[0;36m<module>\u001b[0;34m\u001b[0m\n\u001b[0;32m----> <a href='vscode-notebook-cell://ssh-remote%2B7b22686f73744e616d65223a2277732e64732e323032312e7365727669636573222c2275736572223a226d6f6e706f6c79646576227d/home/hho/data/events/git/monpoly/xray/xray/monpoly/run.ipynb#X13sdnNjb2RlLXJlbW90ZQ%3D%3D?line=0'>1</a>\u001b[0m datetime\u001b[39m.\u001b[39;49mdate(\u001b[39m2022\u001b[39;49m, \u001b[39m11\u001b[39;49m, \u001b[39m29\u001b[39;49m)\n",
      "\u001b[0;31mTypeError\u001b[0m: descriptor 'date' for 'datetime.datetime' objects doesn't apply to a 'int' object"
     ]
    }
   ],
   "source": [
    "datetime.date(2022, 11, 29)"
   ]
  },
  {
   "cell_type": "code",
   "execution_count": 66,
   "metadata": {},
   "outputs": [
    {
     "ename": "AttributeError",
     "evalue": "type object 'datetime.datetime' has no attribute 'timedelta'",
     "output_type": "error",
     "traceback": [
      "\u001b[0;31m---------------------------------------------------------------------------\u001b[0m",
      "\u001b[0;31mAttributeError\u001b[0m                            Traceback (most recent call last)",
      "\u001b[1;32m/home/hho/data/events/git/monpoly/xray/xray/monpoly/run.ipynb Cell 11\u001b[0m in \u001b[0;36m<module>\u001b[0;34m\u001b[0m\n\u001b[0;32m----> <a href='vscode-notebook-cell://ssh-remote%2B7b22686f73744e616d65223a2277732e64732e323032312e7365727669636573222c2275736572223a226d6f6e706f6c79646576227d/home/hho/data/events/git/monpoly/xray/xray/monpoly/run.ipynb#X14sdnNjb2RlLXJlbW90ZQ%3D%3D?line=0'>1</a>\u001b[0m (datetime\u001b[39m.\u001b[39mnow() \u001b[39m-\u001b[39m datetime\u001b[39m.\u001b[39;49mtimedelta(days\u001b[39m=\u001b[39m\u001b[39m7\u001b[39m))\u001b[39m.\u001b[39mdate()\n",
      "\u001b[0;31mAttributeError\u001b[0m: type object 'datetime.datetime' has no attribute 'timedelta'"
     ]
    }
   ],
   "source": [
    "(datetime.now() - datetime.timedelta(days=7)).date()"
   ]
  },
  {
   "cell_type": "code",
   "execution_count": 72,
   "metadata": {},
   "outputs": [
    {
     "data": {
      "text/plain": [
       "datetime.date(2022, 11, 22)"
      ]
     },
     "execution_count": 72,
     "metadata": {},
     "output_type": "execute_result"
    }
   ],
   "source": [
    "from datetime import datetime, timedelta\n",
    "(datetime.now() - timedelta(days=7)).date()"
   ]
  },
  {
   "cell_type": "code",
   "execution_count": 80,
   "metadata": {},
   "outputs": [],
   "source": [
    "s = str({\"input1\":\"value\",\"input2\":\"value\"})"
   ]
  },
  {
   "cell_type": "code",
   "execution_count": 81,
   "metadata": {},
   "outputs": [],
   "source": [
    "import ast"
   ]
  },
  {
   "cell_type": "code",
   "execution_count": 82,
   "metadata": {},
   "outputs": [
    {
     "data": {
      "text/plain": [
       "{'input1': 'value', 'input2': 'value'}"
      ]
     },
     "execution_count": 82,
     "metadata": {},
     "output_type": "execute_result"
    }
   ],
   "source": [
    "ast.literal_eval(s)"
   ]
  },
  {
   "cell_type": "code",
   "execution_count": null,
   "metadata": {},
   "outputs": [],
   "source": []
  }
 ],
 "metadata": {
  "kernelspec": {
   "display_name": "Python 3.8.10 64-bit",
   "language": "python",
   "name": "python3"
  },
  "language_info": {
   "codemirror_mode": {
    "name": "ipython",
    "version": 3
   },
   "file_extension": ".py",
   "mimetype": "text/x-python",
   "name": "python",
   "nbconvert_exporter": "python",
   "pygments_lexer": "ipython3",
   "version": "3.8.10"
  },
  "orig_nbformat": 4,
  "vscode": {
   "interpreter": {
    "hash": "5b3ded1ccb95c1d9bd405e7b823d9e85424cde40fbb5985eb47e999ef50e15b4"
   }
  }
 },
 "nbformat": 4,
 "nbformat_minor": 2
}
