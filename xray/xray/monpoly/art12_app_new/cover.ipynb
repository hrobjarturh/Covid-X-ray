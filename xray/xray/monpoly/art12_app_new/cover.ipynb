{
 "cells": [
  {
   "cell_type": "code",
   "execution_count": null,
   "metadata": {},
   "outputs": [],
   "source": [
    "modelUse(id:string, type:string)\n",
    "\n",
    "dbUsed(id:string,db:string, match:int, data:string)\n",
    "\n",
    "initialVerification(id:string,user1:string)\n",
    "\n",
    "externalVerification(id:string,user2:string)"
   ]
  },
  {
   "cell_type": "code",
   "execution_count": null,
   "metadata": {},
   "outputs": [],
   "source": [
    "new\n",
    "(reason = \"stopped before use\" IMPLIES dbUsed(id,_,_,_) IMPLIES (NOT modelUse(id, \"endDate\") SINCE modelUse(id, \"startDate\"))) AND\n",
    "(reason = \"no stop found\" IMPLIES modelUse(id, \"startDate\") IMPLIES EVENTUALLY[0,5d] modelUse(id, \"endDate\")) AND\n",
    "(reason = \"no initial verification / too late verification\" IMPLIES dbUsed(id,_,1,_) IMPLIES EVENTUALLY[0,5] initialVerification(id,_)) AND\n",
    "(reason = \"no external verification / too late verification\" IMPLIES ddbUsed(id,_,1,_) IMPLIES EVENTUALLY[0,5] externalVerification(id,_))"
   ]
  },
  {
   "cell_type": "code",
   "execution_count": null,
   "metadata": {},
   "outputs": [],
   "source": [
    "old\n",
    "(reason = \"stopped before use\" IMPLIES dbUsed(id,_,_,_) IMPLIES ((NOT modelUse(id, \"endDate\")) SINCE modelUse(id, \"startDate\"))) AND\n",
    "(reason = \"no stop found\" IMPLIES modelUse(id, \"startDate\") IMPLIES EVENTUALLY[0,5] modelUse(id, \"endDate\")) AND\n",
    "(reason = \"no initial verification / too late verification\" IMPLIES dbUsed(id,_,1,_) IMPLIES EVENTUALLY[0,5] initialVerification(id,_)) AND\n",
    "(reason = \"no external verification / too late verification\" IMPLIES dbUsed(id,_,1,_) IMPLIES EVENTUALLY[0,5] externalVerification(id,_)) AND"
   ]
  }
 ],
 "metadata": {
  "kernelspec": {
   "display_name": "Python 3.8.10 ('venv': venv)",
   "language": "python",
   "name": "python3"
  },
  "language_info": {
   "name": "python",
   "version": "3.8.10"
  },
  "orig_nbformat": 4,
  "vscode": {
   "interpreter": {
    "hash": "69ad18c33ab7f550504684a837e6991aa1d18b296ee9d1d630a0c265ce299356"
   }
  }
 },
 "nbformat": 4,
 "nbformat_minor": 2
}
