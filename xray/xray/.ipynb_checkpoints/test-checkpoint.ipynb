{
 "cells": [
  {
   "cell_type": "code",
   "execution_count": 1,
   "metadata": {},
   "outputs": [],
   "source": [
    "from nilearn import image"
   ]
  },
  {
   "cell_type": "code",
   "execution_count": 2,
   "metadata": {},
   "outputs": [],
   "source": [
    "img = image.load_img(\"assets/radiopaedia_org_covid-19-pneumonia-7_85703_0-dcm.nii\")"
   ]
  },
  {
   "cell_type": "code",
   "execution_count": 3,
   "metadata": {},
   "outputs": [
    {
     "data": {
      "text/plain": [
       "'predict.n_clicks'"
      ]
     },
     "execution_count": 3,
     "metadata": {},
     "output_type": "execute_result"
    }
   ],
   "source": [
    "{'prop_id': 'predict.n_clicks', 'value': 1}['prop_id']"
   ]
  },
  {
   "cell_type": "code",
   "execution_count": 28,
   "metadata": {},
   "outputs": [],
   "source": [
    "import pandas as pd"
   ]
  },
  {
   "cell_type": "code",
   "execution_count": 29,
   "metadata": {},
   "outputs": [],
   "source": [
    "d = {'managerID': ['a52d1d80-77d4-47ce-b9fb-34cd81005328'], 'user': 'hho','referenceDB': 'db_1', 'inputData': 'img1', 'results': 'Stefan Hormst'}\n",
    "df = pd.DataFrame(data=d)"
   ]
  },
  {
   "cell_type": "code",
   "execution_count": 30,
   "metadata": {},
   "outputs": [
    {
     "data": {
      "text/html": [
       "<div>\n",
       "<style scoped>\n",
       "    .dataframe tbody tr th:only-of-type {\n",
       "        vertical-align: middle;\n",
       "    }\n",
       "\n",
       "    .dataframe tbody tr th {\n",
       "        vertical-align: top;\n",
       "    }\n",
       "\n",
       "    .dataframe thead th {\n",
       "        text-align: right;\n",
       "    }\n",
       "</style>\n",
       "<table border=\"1\" class=\"dataframe\">\n",
       "  <thead>\n",
       "    <tr style=\"text-align: right;\">\n",
       "      <th></th>\n",
       "      <th>managerID</th>\n",
       "      <th>user</th>\n",
       "      <th>referenceDB</th>\n",
       "      <th>inputData</th>\n",
       "      <th>results</th>\n",
       "    </tr>\n",
       "  </thead>\n",
       "  <tbody>\n",
       "    <tr>\n",
       "      <th>0</th>\n",
       "      <td>a52d1d80-77d4-47ce-b9fb-34cd81005328</td>\n",
       "      <td>hho</td>\n",
       "      <td>db_1</td>\n",
       "      <td>img1</td>\n",
       "      <td>Stefan Hormst</td>\n",
       "    </tr>\n",
       "  </tbody>\n",
       "</table>\n",
       "</div>"
      ],
      "text/plain": [
       "                              managerID user referenceDB inputData  \\\n",
       "0  a52d1d80-77d4-47ce-b9fb-34cd81005328  hho        db_1      img1   \n",
       "\n",
       "         results  \n",
       "0  Stefan Hormst  "
      ]
     },
     "execution_count": 30,
     "metadata": {},
     "output_type": "execute_result"
    }
   ],
   "source": [
    "df"
   ]
  },
  {
   "cell_type": "code",
   "execution_count": 5,
   "metadata": {},
   "outputs": [],
   "source": [
    "df.to_csv('sessionData.csv', index=False)"
   ]
  },
  {
   "cell_type": "code",
   "execution_count": 39,
   "metadata": {},
   "outputs": [],
   "source": [
    "df2 = pd.read_csv(\"sessionData.csv\")"
   ]
  },
  {
   "cell_type": "code",
   "execution_count": 37,
   "metadata": {},
   "outputs": [],
   "source": [
    "df2.loc[len(df2)] = {'managerID': 2, 'user': 3,'referenceDB': 1, 'inputData': 3, 'results': 3 }"
   ]
  },
  {
   "cell_type": "code",
   "execution_count": 40,
   "metadata": {},
   "outputs": [
    {
     "data": {
      "text/html": [
       "<div>\n",
       "<style scoped>\n",
       "    .dataframe tbody tr th:only-of-type {\n",
       "        vertical-align: middle;\n",
       "    }\n",
       "\n",
       "    .dataframe tbody tr th {\n",
       "        vertical-align: top;\n",
       "    }\n",
       "\n",
       "    .dataframe thead th {\n",
       "        text-align: right;\n",
       "    }\n",
       "</style>\n",
       "<table border=\"1\" class=\"dataframe\">\n",
       "  <thead>\n",
       "    <tr style=\"text-align: right;\">\n",
       "      <th></th>\n",
       "      <th>managerID</th>\n",
       "      <th>user</th>\n",
       "      <th>referenceDB</th>\n",
       "      <th>inputData</th>\n",
       "      <th>results</th>\n",
       "    </tr>\n",
       "  </thead>\n",
       "  <tbody>\n",
       "    <tr>\n",
       "      <th>0</th>\n",
       "      <td>a52d1d80-77d4-47ce-b9fb-34cd81005328</td>\n",
       "      <td>hho</td>\n",
       "      <td>db_1</td>\n",
       "      <td>img1</td>\n",
       "      <td>Stefan Hormst</td>\n",
       "    </tr>\n",
       "  </tbody>\n",
       "</table>\n",
       "</div>"
      ],
      "text/plain": [
       "                              managerID user referenceDB inputData  \\\n",
       "0  a52d1d80-77d4-47ce-b9fb-34cd81005328  hho        db_1      img1   \n",
       "\n",
       "         results  \n",
       "0  Stefan Hormst  "
      ]
     },
     "execution_count": 40,
     "metadata": {},
     "output_type": "execute_result"
    }
   ],
   "source": [
    "df2"
   ]
  },
  {
   "cell_type": "code",
   "execution_count": null,
   "metadata": {},
   "outputs": [],
   "source": [
    "            dbc.Row([dbc.Col(axial_card), dbc.Col(saggital_card)]),\n",
    "            dbc.Row(\n",
    "                [\n",
    "                    dbc.Col(histogram_card),\n",
    "                    dbc.Col(mesh_card),\n",
    "                ]\n",
    "            ),"
   ]
  },
  {
   "cell_type": "code",
   "execution_count": 1,
   "metadata": {},
   "outputs": [
    {
     "name": "stderr",
     "output_type": "stream",
     "text": [
      "2022-11-24 17:44:42,902:pgrace.concar.__private:INFO> loaded concar config\n",
      "2022-11-24 17:44:42,903:pgrace.concar.__private:INFO> set log level to INFO\n",
      "2022-11-24 17:44:42,904:pgrace.concar.__private:INFO> session ID: a2f05e73-21ce-40a0-862c-03730a5e76e1\n",
      "2022-11-24 17:44:42,905:pgrace.concar.__private:INFO> concar initialized\n"
     ]
    }
   ],
   "source": [
    "from pgrace import concar\n",
    "from datetime import datetime\n",
    "from pgrace.concar.event import Event\n",
    "import uuid"
   ]
  },
  {
   "cell_type": "code",
   "execution_count": 11,
   "metadata": {},
   "outputs": [
    {
     "data": {
      "text/plain": [
       "'b3f4a6a1-b0f6-4c68-990d-2e828635b01d'"
      ]
     },
     "execution_count": 11,
     "metadata": {},
     "output_type": "execute_result"
    }
   ],
   "source": [
    "str(uuid.uuid4())"
   ]
  },
  {
   "cell_type": "code",
   "execution_count": 20,
   "metadata": {},
   "outputs": [],
   "source": [
    "concar_event = Event('modelName1')\n"
   ]
  },
  {
   "cell_type": "code",
   "execution_count": 17,
   "metadata": {},
   "outputs": [
    {
     "name": "stderr",
     "output_type": "stream",
     "text": [
      "2022-11-20 13:08:43,463:pgrace.concar.__private:INFO> sending message (660 bytes): {\"id\": \"f842396f-8d46-46e8-8731-6a71c60d1c0e\", \"@timestamp\": 1668949723413.2256, \"auth\": {\"username\": \"hho\"}, \"project\": {\"name\": \"forecasting\", \"id\": \"\"}, \"source\": \"Workspace\", \"emitter\": \"workspace-hhod1ab\", \"type\": \"Code\", \"comment\": \"modelUse\", \"code\": {\"source\": \"/usr/local/lib/python3.8/dist-packages/pgrace/concar/event.py\", \"sessionId\": \"1625f30b-957d-4654-9b36-6e9757ba6ae1\", \"function\": \"concar.send_generic_event\", \"gitCommit\": \"556d47e4821ad1f06c3a54c090e2d96e6de15a5e\"}, \"artifacts\": {}, \"name\": \"modelName\", \"category\": \"Generic\", \"govStream\": \"623657e2-0a8b-4145-bdd1-a8995229e5b5\", \"artifact\": \"\", \"standardized\": {\"customStr1\": \"startDate\"}}\n"
     ]
    },
    {
     "data": {
      "text/plain": [
       "'f842396f-8d46-46e8-8731-6a71c60d1c0e'"
      ]
     },
     "execution_count": 17,
     "metadata": {},
     "output_type": "execute_result"
    }
   ],
   "source": [
    "# send modelUse\n",
    "concar_event.SetGovStream(str(uuid.uuid4()))\n",
    "concar_event.SetComment(str('modelUse'))\n",
    "concar_event.SetCustomStr1('startDate')\n",
    "concar_event.SendAndClear()"
   ]
  },
  {
   "cell_type": "code",
   "execution_count": null,
   "metadata": {},
   "outputs": [],
   "source": [
    "# send dbUsed\n",
    "concar_event.SetGovStream(str(uuid.uuid4()))\n",
    "concar_event.SetComment(str('dbUsed'))\n",
    "concar_event.SetCustomStr1('nameOfDB')\n",
    "concar_event.SetJSONDoc({'input1': 'value','input2': 'value'})\n",
    "concar_event.SetCustomNum1(1.)\n",
    "concar_event.SendAndClear()"
   ]
  },
  {
   "cell_type": "code",
   "execution_count": 31,
   "metadata": {},
   "outputs": [
    {
     "name": "stderr",
     "output_type": "stream",
     "text": [
      "2022-11-20 13:17:58,616:pgrace.concar.__private:INFO> sending message (682 bytes): {\"id\": \"6e676c15-3d71-4429-a833-485f9d7ef53b\", \"@timestamp\": 1668950278603.9866, \"auth\": {\"username\": \"hho\"}, \"project\": {\"name\": \"forecasting\", \"id\": \"\"}, \"source\": \"Workspace\", \"emitter\": \"workspace-hhod1ab\", \"type\": \"Code\", \"comment\": \"verification\", \"code\": {\"source\": \"/usr/local/lib/python3.8/dist-packages/pgrace/concar/event.py\", \"sessionId\": \"1625f30b-957d-4654-9b36-6e9757ba6ae1\", \"function\": \"concar.send_generic_event\", \"gitCommit\": \"556d47e4821ad1f06c3a54c090e2d96e6de15a5e\"}, \"artifacts\": {}, \"name\": \"modelName1\", \"category\": \"Generic\", \"govStream\": \"98f15a33-ce1a-494a-b33d-4f33ae5fba6f\", \"artifact\": \"\", \"standardized\": {\"customStr1\": \"ver1\", \"customStr2\": \"ver2\"}}\n"
     ]
    },
    {
     "data": {
      "text/plain": [
       "'6e676c15-3d71-4429-a833-485f9d7ef53b'"
      ]
     },
     "execution_count": 31,
     "metadata": {},
     "output_type": "execute_result"
    }
   ],
   "source": [
    "# send verification\n",
    "concar_event.SetGovStream(str(uuid.uuid4()))\n",
    "concar_event.SetComment(str('verification'))\n",
    "concar_event.SetCustomStr1('ver1')\n",
    "concar_event.SetCustomStr2('ver2')\n",
    "concar_event.SendAndClear()"
   ]
  },
  {
   "cell_type": "code",
   "execution_count": 1,
   "metadata": {},
   "outputs": [],
   "source": [
    "import pandas as pd"
   ]
  },
  {
   "cell_type": "code",
   "execution_count": 2,
   "metadata": {},
   "outputs": [],
   "source": [
    "df2 = pd.read_csv(\"sessionData.csv\")"
   ]
  },
  {
   "cell_type": "code",
   "execution_count": 3,
   "metadata": {},
   "outputs": [
    {
     "data": {
      "text/html": [
       "<div>\n",
       "<style scoped>\n",
       "    .dataframe tbody tr th:only-of-type {\n",
       "        vertical-align: middle;\n",
       "    }\n",
       "\n",
       "    .dataframe tbody tr th {\n",
       "        vertical-align: top;\n",
       "    }\n",
       "\n",
       "    .dataframe thead th {\n",
       "        text-align: right;\n",
       "    }\n",
       "</style>\n",
       "<table border=\"1\" class=\"dataframe\">\n",
       "  <thead>\n",
       "    <tr style=\"text-align: right;\">\n",
       "      <th></th>\n",
       "      <th>managerID</th>\n",
       "      <th>user</th>\n",
       "      <th>referenceDB</th>\n",
       "      <th>inputData</th>\n",
       "      <th>results</th>\n",
       "    </tr>\n",
       "  </thead>\n",
       "  <tbody>\n",
       "    <tr>\n",
       "      <th>0</th>\n",
       "      <td>a52d1d80-77d4-47ce-b9fb-34cd81005328</td>\n",
       "      <td>hho</td>\n",
       "      <td>db_1</td>\n",
       "      <td>img1</td>\n",
       "      <td>Stefan Hormst</td>\n",
       "    </tr>\n",
       "    <tr>\n",
       "      <th>1</th>\n",
       "      <td>92f3b4d0-2a5d-4c60-bb60-e9e56f4ac3a4</td>\n",
       "      <td>user1</td>\n",
       "      <td>refdb</td>\n",
       "      <td>img1</td>\n",
       "      <td>asdasd</td>\n",
       "    </tr>\n",
       "  </tbody>\n",
       "</table>\n",
       "</div>"
      ],
      "text/plain": [
       "                              managerID   user referenceDB inputData  \\\n",
       "0  a52d1d80-77d4-47ce-b9fb-34cd81005328    hho        db_1      img1   \n",
       "1  92f3b4d0-2a5d-4c60-bb60-e9e56f4ac3a4  user1       refdb      img1   \n",
       "\n",
       "         results  \n",
       "0  Stefan Hormst  \n",
       "1         asdasd  "
      ]
     },
     "execution_count": 3,
     "metadata": {},
     "output_type": "execute_result"
    }
   ],
   "source": [
    "df2"
   ]
  },
  {
   "cell_type": "code",
   "execution_count": 18,
   "metadata": {},
   "outputs": [
    {
     "data": {
      "text/html": [
       "<div>\n",
       "<style scoped>\n",
       "    .dataframe tbody tr th:only-of-type {\n",
       "        vertical-align: middle;\n",
       "    }\n",
       "\n",
       "    .dataframe tbody tr th {\n",
       "        vertical-align: top;\n",
       "    }\n",
       "\n",
       "    .dataframe thead th {\n",
       "        text-align: right;\n",
       "    }\n",
       "</style>\n",
       "<table border=\"1\" class=\"dataframe\">\n",
       "  <thead>\n",
       "    <tr style=\"text-align: right;\">\n",
       "      <th></th>\n",
       "      <th>managerID</th>\n",
       "      <th>user</th>\n",
       "      <th>referenceDB</th>\n",
       "      <th>inputData</th>\n",
       "      <th>results</th>\n",
       "    </tr>\n",
       "  </thead>\n",
       "  <tbody>\n",
       "    <tr>\n",
       "      <th>1</th>\n",
       "      <td>b76fe3f8-913b-408a-a4d1-56f12297fcf9</td>\n",
       "      <td>EM.managerID</td>\n",
       "      <td>refdb</td>\n",
       "      <td>img1</td>\n",
       "      <td>asdasd</td>\n",
       "    </tr>\n",
       "    <tr>\n",
       "      <th>2</th>\n",
       "      <td>66e63ff2-a32e-4d0e-bac9-e9c9c4114c4d</td>\n",
       "      <td>EM.managerID</td>\n",
       "      <td>refdb</td>\n",
       "      <td>img1</td>\n",
       "      <td>asdasd</td>\n",
       "    </tr>\n",
       "    <tr>\n",
       "      <th>3</th>\n",
       "      <td>88b68e24-7e57-46f6-9a83-1cca73be066b</td>\n",
       "      <td>EM.managerID</td>\n",
       "      <td>refdb</td>\n",
       "      <td>img1</td>\n",
       "      <td>asdasd</td>\n",
       "    </tr>\n",
       "    <tr>\n",
       "      <th>4</th>\n",
       "      <td>b1d65247-468c-42e4-b658-1a5bc252ced0</td>\n",
       "      <td>EM.managerID</td>\n",
       "      <td>refdb</td>\n",
       "      <td>img1</td>\n",
       "      <td>asdasd</td>\n",
       "    </tr>\n",
       "    <tr>\n",
       "      <th>5</th>\n",
       "      <td>9156d2d3-ccdf-4c6a-bb47-aeea183c8c0b</td>\n",
       "      <td>dev1</td>\n",
       "      <td>refdb</td>\n",
       "      <td>img1</td>\n",
       "      <td>asdasd</td>\n",
       "    </tr>\n",
       "    <tr>\n",
       "      <th>6</th>\n",
       "      <td>ab9c9729-1b07-459c-9368-1207755de9eb</td>\n",
       "      <td>dev1</td>\n",
       "      <td>refdb</td>\n",
       "      <td>img1</td>\n",
       "      <td>asdasd</td>\n",
       "    </tr>\n",
       "    <tr>\n",
       "      <th>7</th>\n",
       "      <td>fc1f73fc-3efa-4640-8b6a-226070aab462</td>\n",
       "      <td>dev2</td>\n",
       "      <td>refdb</td>\n",
       "      <td>img1</td>\n",
       "      <td>asdasd</td>\n",
       "    </tr>\n",
       "    <tr>\n",
       "      <th>8</th>\n",
       "      <td>a4b29790-652b-47f2-8666-9faa5ef99014</td>\n",
       "      <td>dev3</td>\n",
       "      <td>refdb</td>\n",
       "      <td>img1</td>\n",
       "      <td>asdasd</td>\n",
       "    </tr>\n",
       "  </tbody>\n",
       "</table>\n",
       "</div>"
      ],
      "text/plain": [
       "                              managerID          user referenceDB inputData  \\\n",
       "1  b76fe3f8-913b-408a-a4d1-56f12297fcf9  EM.managerID       refdb      img1   \n",
       "2  66e63ff2-a32e-4d0e-bac9-e9c9c4114c4d  EM.managerID       refdb      img1   \n",
       "3  88b68e24-7e57-46f6-9a83-1cca73be066b  EM.managerID       refdb      img1   \n",
       "4  b1d65247-468c-42e4-b658-1a5bc252ced0  EM.managerID       refdb      img1   \n",
       "5  9156d2d3-ccdf-4c6a-bb47-aeea183c8c0b          dev1       refdb      img1   \n",
       "6  ab9c9729-1b07-459c-9368-1207755de9eb          dev1       refdb      img1   \n",
       "7  fc1f73fc-3efa-4640-8b6a-226070aab462          dev2       refdb      img1   \n",
       "8  a4b29790-652b-47f2-8666-9faa5ef99014          dev3       refdb      img1   \n",
       "\n",
       "  results  \n",
       "1  asdasd  \n",
       "2  asdasd  \n",
       "3  asdasd  \n",
       "4  asdasd  \n",
       "5  asdasd  \n",
       "6  asdasd  \n",
       "7  asdasd  \n",
       "8  asdasd  "
      ]
     },
     "execution_count": 18,
     "metadata": {},
     "output_type": "execute_result"
    }
   ],
   "source": [
    "df2.loc[df2['managerID']!='a52d1d80-77d4-47ce-b9fb-34cd81005328']"
   ]
  },
  {
   "cell_type": "code",
   "execution_count": 34,
   "metadata": {},
   "outputs": [
    {
     "data": {
      "text/html": [
       "<div>\n",
       "<style scoped>\n",
       "    .dataframe tbody tr th:only-of-type {\n",
       "        vertical-align: middle;\n",
       "    }\n",
       "\n",
       "    .dataframe tbody tr th {\n",
       "        vertical-align: top;\n",
       "    }\n",
       "\n",
       "    .dataframe thead th {\n",
       "        text-align: right;\n",
       "    }\n",
       "</style>\n",
       "<table border=\"1\" class=\"dataframe\">\n",
       "  <thead>\n",
       "    <tr style=\"text-align: right;\">\n",
       "      <th></th>\n",
       "      <th>managerID</th>\n",
       "      <th>user</th>\n",
       "      <th>referenceDB</th>\n",
       "      <th>inputData</th>\n",
       "      <th>results</th>\n",
       "    </tr>\n",
       "  </thead>\n",
       "  <tbody>\n",
       "    <tr>\n",
       "      <th>0</th>\n",
       "      <td>a52d1d80-77d4-47ce-b9fb-34cd81005328</td>\n",
       "      <td>hho</td>\n",
       "      <td>db_1</td>\n",
       "      <td>img1</td>\n",
       "      <td>Stefan Hormst</td>\n",
       "    </tr>\n",
       "    <tr>\n",
       "      <th>1</th>\n",
       "      <td>b76fe3f8-913b-408a-a4d1-56f12297fcf9</td>\n",
       "      <td>EM.managerID</td>\n",
       "      <td>refdb</td>\n",
       "      <td>img1</td>\n",
       "      <td>asdasd</td>\n",
       "    </tr>\n",
       "    <tr>\n",
       "      <th>2</th>\n",
       "      <td>66e63ff2-a32e-4d0e-bac9-e9c9c4114c4d</td>\n",
       "      <td>EM.managerID</td>\n",
       "      <td>refdb</td>\n",
       "      <td>img1</td>\n",
       "      <td>asdasd</td>\n",
       "    </tr>\n",
       "    <tr>\n",
       "      <th>3</th>\n",
       "      <td>88b68e24-7e57-46f6-9a83-1cca73be066b</td>\n",
       "      <td>EM.managerID</td>\n",
       "      <td>refdb</td>\n",
       "      <td>img1</td>\n",
       "      <td>asdasd</td>\n",
       "    </tr>\n",
       "    <tr>\n",
       "      <th>4</th>\n",
       "      <td>b1d65247-468c-42e4-b658-1a5bc252ced0</td>\n",
       "      <td>EM.managerID</td>\n",
       "      <td>refdb</td>\n",
       "      <td>img1</td>\n",
       "      <td>asdasd</td>\n",
       "    </tr>\n",
       "  </tbody>\n",
       "</table>\n",
       "</div>"
      ],
      "text/plain": [
       "                              managerID          user referenceDB inputData  \\\n",
       "0  a52d1d80-77d4-47ce-b9fb-34cd81005328           hho        db_1      img1   \n",
       "1  b76fe3f8-913b-408a-a4d1-56f12297fcf9  EM.managerID       refdb      img1   \n",
       "2  66e63ff2-a32e-4d0e-bac9-e9c9c4114c4d  EM.managerID       refdb      img1   \n",
       "3  88b68e24-7e57-46f6-9a83-1cca73be066b  EM.managerID       refdb      img1   \n",
       "4  b1d65247-468c-42e4-b658-1a5bc252ced0  EM.managerID       refdb      img1   \n",
       "\n",
       "         results  \n",
       "0  Stefan Hormst  \n",
       "1         asdasd  \n",
       "2         asdasd  \n",
       "3         asdasd  \n",
       "4         asdasd  "
      ]
     },
     "execution_count": 34,
     "metadata": {},
     "output_type": "execute_result"
    }
   ],
   "source": [
    "df2"
   ]
  },
  {
   "cell_type": "code",
   "execution_count": 2,
   "metadata": {},
   "outputs": [],
   "source": [
    "import logging\n",
    "from dateutil.parser import parse"
   ]
  },
  {
   "cell_type": "code",
   "execution_count": 3,
   "metadata": {},
   "outputs": [],
   "source": [
    "from datetime import datetime\n",
    "import time"
   ]
  },
  {
   "cell_type": "code",
   "execution_count": null,
   "metadata": {},
   "outputs": [],
   "source": [
    "'''modelDeployment(id:int,x:int)\n",
    "modelUse(id:int,x:int)\n",
    "dbUsed(id:int,x:int, y:string)\n",
    "verification(id:int,x:string)'''"
   ]
  },
  {
   "cell_type": "code",
   "execution_count": 4,
   "metadata": {},
   "outputs": [],
   "source": [
    "list_of_events = concar.get_events(\n",
    "    start_date=datetime.today().date(),\n",
    "    end_date=datetime.now(),\n",
    "    name='art12dev5'\n",
    ")"
   ]
  },
  {
   "cell_type": "code",
   "execution_count": 27,
   "metadata": {},
   "outputs": [],
   "source": [
    "for handler in logging.root.handlers[:]:\n",
    "    logging.root.removeHandler(handler)\n",
    "logging.basicConfig(filename='test.log', level=logging.INFO, format= '%(message)s')\n",
    "for e_index in reversed(range(len(list_of_events))):\n",
    "    e = list_of_events[e_index]\n",
    "    e_type = e['comment']\n",
    "    e_datetime = int(time.mktime(parse(e['createdDate']).timetuple()))\n",
    "        \n",
    "    if e_type == 'verification':\n",
    "        logging.info(' '.join(['@'+str(e_datetime) ,e_type, '('+str(e['govStream'])  +','+str(e['data']['standardized']['customStr1'])+','+str(e['data']['standardized']['customStr2'])+')' ]))\n",
    "        \n",
    "    if e_type == 'modelUse':\n",
    "        logging.info(' '.join(['@'+str(e_datetime) ,e_type, '('+str(e['govStream'])   +','+str(e['data']['standardized']['customStr1'])+')' ]))\n",
    "        \n",
    "    if e_type == 'dbUsed':\n",
    "        logging.info(' '.join(['@'+str(e_datetime) ,e_type, '('+str(e['govStream'])   +','+str(e['data']['standardized']['customStr1'])+','+str(e['data']['standardized']['customNum1'])+', ('+str(e['data']['standardized']['jsonDoc'])+'))' ]))"
   ]
  },
  {
   "cell_type": "code",
   "execution_count": 13,
   "metadata": {},
   "outputs": [
    {
     "name": "stdout",
     "output_type": "stream",
     "text": [
      "{'id': '637776ec-191a-4e68-9458-c64b7432cefe', 'name': 'art12dev4', 'type': 'Code', 'category': 'Generic', 'userId': 'hho', 'createdDate': '2022-11-24T16:30:08.566258688Z', 'data': {'artifacts': {'in': None, 'out': None}, 'code.args': None, 'code.function': 'concar.send_generic_event', 'code.gitCommit': '556d47e4821ad1f06c3a54c090e2d96e6de15a5e', 'code.result': None, 'code.source': '/data/xray/assets/model-accelerators/dash-covid-xray/venv/lib/python3.8/site-packages/pgrace/concar/event.py', 'standardized': {'customStr1': 'dev2', 'customStr2': 'other'}}, 'projectId': 'forecasting', 'sessionId': 'c73e549c-c9cf-44ab-ad09-332dc577e7a9', 'eventEmitterId': 'workspace-hhod1ab', 'comment': 'verification', 'govStream': 'fc1f73fc-3efa-4640-8b6a-226070aab462', 'artifact': ''}\n",
      "{'id': '4a193ce3-761a-421a-a7ce-de2f12b332a7', 'name': 'art12dev4', 'type': 'Code', 'category': 'Generic', 'userId': 'hho', 'createdDate': '2022-11-24T16:29:10.41052672Z', 'data': {'artifacts': {'in': None, 'out': None}, 'code.args': None, 'code.function': 'concar.send_generic_event', 'code.gitCommit': '556d47e4821ad1f06c3a54c090e2d96e6de15a5e', 'code.result': None, 'code.source': '/data/xray/assets/model-accelerators/dash-covid-xray/venv/lib/python3.8/site-packages/pgrace/concar/event.py', 'standardized': {'customStr1': 'endDate'}}, 'projectId': 'forecasting', 'sessionId': 'c73e549c-c9cf-44ab-ad09-332dc577e7a9', 'eventEmitterId': 'workspace-hhod1ab', 'comment': 'modelUse', 'govStream': 'fc1f73fc-3efa-4640-8b6a-226070aab462', 'artifact': ''}\n",
      "{'id': '968587f9-8f10-4403-b192-d0e4c3832a9f', 'name': 'art12dev4', 'type': 'Code', 'category': 'Generic', 'userId': 'hho', 'createdDate': '2022-11-24T16:29:04.613286912Z', 'data': {'artifacts': {'in': None, 'out': None}, 'code.args': None, 'code.function': 'concar.send_generic_event', 'code.gitCommit': '556d47e4821ad1f06c3a54c090e2d96e6de15a5e', 'code.result': None, 'code.source': '/data/xray/assets/model-accelerators/dash-covid-xray/venv/lib/python3.8/site-packages/pgrace/concar/event.py', 'standardized': {'customStr1': 'startDate'}}, 'projectId': 'forecasting', 'sessionId': 'c73e549c-c9cf-44ab-ad09-332dc577e7a9', 'eventEmitterId': 'workspace-hhod1ab', 'comment': 'modelUse', 'govStream': 'fc1f73fc-3efa-4640-8b6a-226070aab462', 'artifact': ''}\n",
      "{'id': '2f4ac312-5757-4d1d-8804-30942471f5b3', 'name': 'art12dev4', 'type': 'Code', 'category': 'Generic', 'userId': 'hho', 'createdDate': '2022-11-24T16:19:48.867175168Z', 'data': {'artifacts': {'in': None, 'out': None}, 'code.args': None, 'code.function': 'concar.send_generic_event', 'code.gitCommit': '556d47e4821ad1f06c3a54c090e2d96e6de15a5e', 'code.result': None, 'code.source': '/data/xray/assets/model-accelerators/dash-covid-xray/venv/lib/python3.8/site-packages/pgrace/concar/event.py', 'standardized': {'customStr1': 'endDate'}}, 'projectId': 'forecasting', 'sessionId': '9726600d-e09d-4410-a689-b691ecd94012', 'eventEmitterId': 'workspace-hhod1ab', 'comment': 'modelUse', 'govStream': 'ab9c9729-1b07-459c-9368-1207755de9eb', 'artifact': ''}\n",
      "{'id': 'e5ea01f6-18f9-444e-b592-24371b6b1b64', 'name': 'art12dev4', 'type': 'Code', 'category': 'Generic', 'userId': 'hho', 'createdDate': '2022-11-24T16:19:43.819963136Z', 'data': {'artifacts': {'in': None, 'out': None}, 'code.args': None, 'code.function': 'concar.send_generic_event', 'code.gitCommit': '556d47e4821ad1f06c3a54c090e2d96e6de15a5e', 'code.result': None, 'code.source': '/data/xray/assets/model-accelerators/dash-covid-xray/venv/lib/python3.8/site-packages/pgrace/concar/event.py', 'standardized': {'customStr1': 'startDate'}}, 'projectId': 'forecasting', 'sessionId': '9726600d-e09d-4410-a689-b691ecd94012', 'eventEmitterId': 'workspace-hhod1ab', 'comment': 'modelUse', 'govStream': 'ab9c9729-1b07-459c-9368-1207755de9eb', 'artifact': ''}\n",
      "{'id': '49719ee6-94aa-4ea2-989c-ec9ee663a422', 'name': 'art12dev4', 'type': 'Code', 'category': 'Generic', 'userId': 'hho', 'createdDate': '2022-11-24T16:00:52.25698176Z', 'data': {'artifacts': {'in': None, 'out': None}, 'code.args': None, 'code.function': 'concar.send_generic_event', 'code.gitCommit': '556d47e4821ad1f06c3a54c090e2d96e6de15a5e', 'code.result': None, 'code.source': '/data/xray/assets/model-accelerators/dash-covid-xray/venv/lib/python3.8/site-packages/pgrace/concar/event.py', 'standardized': {'customStr1': 'dev1', 'customStr2': 'dev1'}}, 'projectId': 'forecasting', 'sessionId': 'd5410546-3561-4d1e-92d1-362a7965ab52', 'eventEmitterId': 'workspace-hhod1ab', 'comment': 'verification', 'govStream': '9156d2d3-ccdf-4c6a-bb47-aeea183c8c0b', 'artifact': ''}\n",
      "{'id': '2b2278d6-457a-49b0-8db2-303155797d64', 'name': 'art12dev4', 'type': 'Code', 'category': 'Generic', 'userId': 'hho', 'createdDate': '2022-11-24T16:00:40.375026432Z', 'data': {'artifacts': {'in': None, 'out': None}, 'code.args': None, 'code.function': 'concar.send_generic_event', 'code.gitCommit': '556d47e4821ad1f06c3a54c090e2d96e6de15a5e', 'code.result': None, 'code.source': '/data/xray/assets/model-accelerators/dash-covid-xray/venv/lib/python3.8/site-packages/pgrace/concar/event.py', 'standardized': {'customStr1': 'endDate'}}, 'projectId': 'forecasting', 'sessionId': 'd5410546-3561-4d1e-92d1-362a7965ab52', 'eventEmitterId': 'workspace-hhod1ab', 'comment': 'modelUse', 'govStream': '9156d2d3-ccdf-4c6a-bb47-aeea183c8c0b', 'artifact': ''}\n",
      "{'id': '7a093570-ce6b-4b04-94da-c52baf70c885', 'name': 'art12dev4', 'type': 'Code', 'category': 'Generic', 'userId': 'hho', 'createdDate': '2022-11-24T16:00:35.01377024Z', 'data': {'artifacts': {'in': None, 'out': None}, 'code.args': None, 'code.function': 'concar.send_generic_event', 'code.gitCommit': '556d47e4821ad1f06c3a54c090e2d96e6de15a5e', 'code.result': None, 'code.source': '/data/xray/assets/model-accelerators/dash-covid-xray/venv/lib/python3.8/site-packages/pgrace/concar/event.py', 'standardized': {'customStr1': 'startDate'}}, 'projectId': 'forecasting', 'sessionId': 'd5410546-3561-4d1e-92d1-362a7965ab52', 'eventEmitterId': 'workspace-hhod1ab', 'comment': 'modelUse', 'govStream': '9156d2d3-ccdf-4c6a-bb47-aeea183c8c0b', 'artifact': ''}\n",
      "{'id': '0c0c371b-2f22-41ea-8e97-5b767bb09792', 'name': 'art12dev4', 'type': 'Code', 'category': 'Generic', 'userId': 'hho', 'createdDate': '2022-11-24T14:39:18.665025536Z', 'data': {'artifacts': {'in': None, 'out': None}, 'code.args': None, 'code.function': 'concar.send_generic_event', 'code.gitCommit': '556d47e4821ad1f06c3a54c090e2d96e6de15a5e', 'code.result': None, 'code.source': '/data/xray/assets/model-accelerators/dash-covid-xray/venv/lib/python3.8/site-packages/pgrace/concar/event.py', 'standardized': {'customStr1': 'EM.managerID', 'customStr2': 'hho'}}, 'projectId': 'forecasting', 'sessionId': 'c6f8ef40-3810-471b-84b3-cc05e23e0534', 'eventEmitterId': 'workspace-hhod1ab', 'comment': 'verification', 'govStream': 'b1d65247-468c-42e4-b658-1a5bc252ced0', 'artifact': ''}\n",
      "{'id': 'b3bd5706-f813-41e2-b644-e91fe2e61508', 'name': 'art12dev4', 'type': 'Code', 'category': 'Generic', 'userId': 'hho', 'createdDate': '2022-11-24T14:39:05.27658752Z', 'data': {'artifacts': {'in': None, 'out': None}, 'code.args': None, 'code.function': 'concar.send_generic_event', 'code.gitCommit': '556d47e4821ad1f06c3a54c090e2d96e6de15a5e', 'code.result': None, 'code.source': '/data/xray/assets/model-accelerators/dash-covid-xray/venv/lib/python3.8/site-packages/pgrace/concar/event.py', 'standardized': {'customStr1': 'endDate'}}, 'projectId': 'forecasting', 'sessionId': 'c6f8ef40-3810-471b-84b3-cc05e23e0534', 'eventEmitterId': 'workspace-hhod1ab', 'comment': 'modelUse', 'govStream': 'b1d65247-468c-42e4-b658-1a5bc252ced0', 'artifact': ''}\n",
      "{'id': '1d732dc1-9c15-4e94-b6f3-4332eb1237ac', 'name': 'art12dev4', 'type': 'Code', 'category': 'Generic', 'userId': 'hho', 'createdDate': '2022-11-24T14:39:04.765253632Z', 'data': {'artifacts': {'in': None, 'out': None}, 'code.args': None, 'code.function': 'concar.send_generic_event', 'code.gitCommit': '556d47e4821ad1f06c3a54c090e2d96e6de15a5e', 'code.result': None, 'code.source': '/data/xray/assets/model-accelerators/dash-covid-xray/venv/lib/python3.8/site-packages/pgrace/concar/event.py', 'standardized': {'customStr1': 'startDate'}}, 'projectId': 'forecasting', 'sessionId': 'c6f8ef40-3810-471b-84b3-cc05e23e0534', 'eventEmitterId': 'workspace-hhod1ab', 'comment': 'modelUse', 'govStream': 'b1d65247-468c-42e4-b658-1a5bc252ced0', 'artifact': ''}\n",
      "{'id': '9ac9cfa2-2e3a-400a-8006-cc1b84f9ba6e', 'name': 'art12dev4', 'type': 'Code', 'category': 'Generic', 'userId': 'hho', 'createdDate': '2022-11-24T14:02:57.53648512Z', 'data': {'artifacts': {'in': None, 'out': None}, 'code.args': None, 'code.function': 'concar.send_generic_event', 'code.gitCommit': '556d47e4821ad1f06c3a54c090e2d96e6de15a5e', 'code.result': None, 'code.source': '/data/xray/assets/model-accelerators/dash-covid-xray/venv/lib/python3.8/site-packages/pgrace/concar/event.py', 'standardized': {'customStr1': 'hho', 'customStr2': 'hho'}}, 'projectId': 'forecasting', 'sessionId': '1c196e7c-eac1-4f56-ad3a-7f7509095a67', 'eventEmitterId': 'workspace-hhod1ab', 'comment': 'verification', 'govStream': 'a52d1d80-77d4-47ce-b9fb-34cd81005328', 'artifact': ''}\n",
      "{'id': '694e0d99-b397-4526-99e6-71a18cbd010e', 'name': 'art12dev4', 'type': 'Code', 'category': 'Generic', 'userId': 'hho', 'createdDate': '2022-11-24T14:02:37.208523008Z', 'data': {'artifacts': {'in': None, 'out': None}, 'code.args': None, 'code.function': 'concar.send_generic_event', 'code.gitCommit': '556d47e4821ad1f06c3a54c090e2d96e6de15a5e', 'code.result': None, 'code.source': '/data/xray/assets/model-accelerators/dash-covid-xray/venv/lib/python3.8/site-packages/pgrace/concar/event.py', 'standardized': {'customStr1': 'endDate'}}, 'projectId': 'forecasting', 'sessionId': '1c196e7c-eac1-4f56-ad3a-7f7509095a67', 'eventEmitterId': 'workspace-hhod1ab', 'comment': 'modelUse', 'govStream': '88b68e24-7e57-46f6-9a83-1cca73be066b', 'artifact': ''}\n",
      "{'id': 'a8d4779d-59f5-4eeb-a8a4-386987203bcc', 'name': 'art12dev4', 'type': 'Code', 'category': 'Generic', 'userId': 'hho', 'createdDate': '2022-11-24T14:02:35.571914496Z', 'data': {'artifacts': {'in': None, 'out': None}, 'code.args': None, 'code.function': 'concar.send_generic_event', 'code.gitCommit': '556d47e4821ad1f06c3a54c090e2d96e6de15a5e', 'code.result': None, 'code.source': '/data/xray/assets/model-accelerators/dash-covid-xray/venv/lib/python3.8/site-packages/pgrace/concar/event.py', 'standardized': {'customStr1': 'startDate'}}, 'projectId': 'forecasting', 'sessionId': '1c196e7c-eac1-4f56-ad3a-7f7509095a67', 'eventEmitterId': 'workspace-hhod1ab', 'comment': 'modelUse', 'govStream': '88b68e24-7e57-46f6-9a83-1cca73be066b', 'artifact': ''}\n"
     ]
    }
   ],
   "source": [
    "for e_index in range(len(list_of_events)):\n",
    "    e = list_of_events[e_index]\n",
    "    print(e)"
   ]
  },
  {
   "cell_type": "code",
   "execution_count": 14,
   "metadata": {},
   "outputs": [
    {
     "data": {
      "text/plain": [
       "'a52d1d80-77d4-47ce-b9fb-34cd81005328'"
      ]
     },
     "execution_count": 14,
     "metadata": {},
     "output_type": "execute_result"
    }
   ],
   "source": [
    "list_of_events[0]['govStream']"
   ]
  },
  {
   "cell_type": "code",
   "execution_count": 16,
   "metadata": {},
   "outputs": [
    {
     "data": {
      "text/plain": [
       "'verification'"
      ]
     },
     "execution_count": 16,
     "metadata": {},
     "output_type": "execute_result"
    }
   ],
   "source": [
    "list_of_events[0]['comment']"
   ]
  },
  {
   "cell_type": "code",
   "execution_count": 23,
   "metadata": {},
   "outputs": [
    {
     "data": {
      "text/plain": [
       "{'artifacts': {'in': None, 'out': None},\n",
       " 'code.args': None,\n",
       " 'code.function': 'concar.send_generic_event',\n",
       " 'code.gitCommit': '556d47e4821ad1f06c3a54c090e2d96e6de15a5e',\n",
       " 'code.result': None,\n",
       " 'code.source': '/data/xray/assets/model-accelerators/dash-covid-xray/venv/lib/python3.8/site-packages/pgrace/concar/event.py',\n",
       " 'standardized': {'customStr1': 'hho', 'customStr2': 'hho'}}"
      ]
     },
     "execution_count": 23,
     "metadata": {},
     "output_type": "execute_result"
    }
   ],
   "source": [
    "list_of_events[0]['data']"
   ]
  },
  {
   "cell_type": "code",
   "execution_count": 21,
   "metadata": {},
   "outputs": [
    {
     "data": {
      "text/plain": [
       "{'id': '694e0d99-b397-4526-99e6-71a18cbd010e',\n",
       " 'name': 'art12dev4',\n",
       " 'type': 'Code',\n",
       " 'category': 'Generic',\n",
       " 'userId': 'hho',\n",
       " 'createdDate': '2022-11-24T14:02:37.208523008Z',\n",
       " 'data': {'artifacts': {'in': None, 'out': None},\n",
       "  'code.args': None,\n",
       "  'code.function': 'concar.send_generic_event',\n",
       "  'code.gitCommit': '556d47e4821ad1f06c3a54c090e2d96e6de15a5e',\n",
       "  'code.result': None,\n",
       "  'code.source': '/data/xray/assets/model-accelerators/dash-covid-xray/venv/lib/python3.8/site-packages/pgrace/concar/event.py',\n",
       "  'standardized': {'customStr1': 'endDate'}},\n",
       " 'projectId': 'forecasting',\n",
       " 'sessionId': '1c196e7c-eac1-4f56-ad3a-7f7509095a67',\n",
       " 'eventEmitterId': 'workspace-hhod1ab',\n",
       " 'comment': 'modelUse',\n",
       " 'govStream': '88b68e24-7e57-46f6-9a83-1cca73be066b',\n",
       " 'artifact': ''}"
      ]
     },
     "execution_count": 21,
     "metadata": {},
     "output_type": "execute_result"
    }
   ],
   "source": [
    "list_of_events[1]"
   ]
  },
  {
   "cell_type": "code",
   "execution_count": null,
   "metadata": {},
   "outputs": [],
   "source": []
  }
 ],
 "metadata": {
  "kernelspec": {
   "display_name": "Python 3 (ipykernel)",
   "language": "python",
   "name": "python3"
  },
  "language_info": {
   "codemirror_mode": {
    "name": "ipython",
    "version": 3
   },
   "file_extension": ".py",
   "mimetype": "text/x-python",
   "name": "python",
   "nbconvert_exporter": "python",
   "pygments_lexer": "ipython3",
   "version": "3.8.10"
  },
  "vscode": {
   "interpreter": {
    "hash": "5b3ded1ccb95c1d9bd405e7b823d9e85424cde40fbb5985eb47e999ef50e15b4"
   }
  }
 },
 "nbformat": 4,
 "nbformat_minor": 4
}
