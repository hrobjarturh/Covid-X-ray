{
 "cells": [
  {
   "cell_type": "code",
   "execution_count": 2,
   "metadata": {},
   "outputs": [],
   "source": [
    "log_file = 't1.log'\n",
    "mfotl_file = 't1.mfotl'\n",
    "sig_file = 't1.sig'"
   ]
  },
  {
   "cell_type": "code",
   "execution_count": 3,
   "metadata": {},
   "outputs": [],
   "source": [
    "!cd monpoly; ./monpoly -sig examples/sigs/$sig_file -formula examples/mfotl/$mfotl_file -log examples/logs/$log_file -negate"
   ]
  },
  {
   "cell_type": "code",
   "execution_count": 1,
   "metadata": {},
   "outputs": [
    {
     "name": "stdout",
     "output_type": "stream",
     "text": [
      "@1663858806 (time point 6): (34,\"riskMeasures\",\"9.8\")\n",
      "@1663858806 (time point 7): (35,\"analysisOfRisk\",\"9.2.a\")\n"
     ]
    }
   ],
   "source": [
    "log_file = 'art9.log'\n",
    "mfotl_file = 'art9.mfotl'\n",
    "sig_file = 'art9.sig'\n",
    "!cd monpoly; ./monpoly -sig examples/sigs/$sig_file -formula examples/mfotl/$mfotl_file -log examples/logs/$log_file -negate\n",
    "\n"
   ]
  },
  {
   "cell_type": "code",
   "execution_count": 15,
   "metadata": {},
   "outputs": [],
   "source": [
    "log_file = 'test.log'\n",
    "mfotl_file = 'test.mfotl'\n",
    "sig_file = 'test.sig'"
   ]
  },
  {
   "cell_type": "code",
   "execution_count": 16,
   "metadata": {},
   "outputs": [],
   "source": [
    "!cd monpoly; ./monpoly -sig art12_app_new/$sig_file -formula art12_app_new/$mfotl_file -log art12_app_new/$log_file -negate"
   ]
  },
  {
   "cell_type": "code",
   "execution_count": null,
   "metadata": {},
   "outputs": [],
   "source": [
    "(reason = \"violation: stopped before use\" IMPLIES dbUsed(id,_,_,_) IMPLIES ((NOT modelUse(id, \"endDate\")) SINCE modelUse(id, \"startDate\"))) AND\n",
    "(reason = \"violation: no stop found\" IMPLIES modelUse(id, \"startDate\") IMPLIES EVENTUALLY[0,5d] modelUse(id, \"endDate\")) AND\n",
    "(reason = \"violation: no initial verification / too late verification\" IMPLIES dbUsed(id,_,1,_) IMPLIES EVENTUALLY[0,20] initialVerification(id,_)) AND\n",
    "(reason = \"violation: no external verification / too late verification\" IMPLIES dbUsed(id,_,1,_) IMPLIES EVENTUALLY[0,20] externalVerification(id,_))"
   ]
  }
 ],
 "metadata": {
  "kernelspec": {
   "display_name": "Python 3.8.9 64-bit",
   "language": "python",
   "name": "python3"
  },
  "language_info": {
   "codemirror_mode": {
    "name": "ipython",
    "version": 3
   },
   "file_extension": ".py",
   "mimetype": "text/x-python",
   "name": "python",
   "nbconvert_exporter": "python",
   "pygments_lexer": "ipython3",
   "version": "3.8.10"
  },
  "vscode": {
   "interpreter": {
    "hash": "31f2aee4e71d21fbe5cf8b01ff0e069b9275f58929596ceb00d14d90e3e16cd6"
   }
  }
 },
 "nbformat": 4,
 "nbformat_minor": 4
}
